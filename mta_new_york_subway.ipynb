{
 "cells": [
  {
   "cell_type": "markdown",
   "metadata": {},
   "source": [
    "# Checking data of MTA turnstile and predict entries\n",
    "\n",
    "Data is collected from 06/09/2018 to 06/16/2018, and available here:\n",
    "http://web.mta.info/developers/turnstile.html"
   ]
  },
  {
   "cell_type": "code",
   "execution_count": 1,
   "metadata": {},
   "outputs": [],
   "source": [
    "import numpy as np\n",
    "import pandas as pd\n",
    "import os\n",
    "import sys\n",
    "import random\n",
    "import seaborn as sns\n",
    "\n",
    "import matplotlib.pyplot as plt\n",
    "%matplotlib inline\n",
    "np.random.seed(7)"
   ]
  },
  {
   "cell_type": "code",
   "execution_count": 2,
   "metadata": {},
   "outputs": [],
   "source": [
    "data = pd.read_csv('data/turnstile_180616.txt')"
   ]
  },
  {
   "cell_type": "code",
   "execution_count": 3,
   "metadata": {},
   "outputs": [
    {
     "name": "stdout",
     "output_type": "stream",
     "text": [
      "<class 'pandas.core.frame.DataFrame'>\n",
      "RangeIndex: 196978 entries, 0 to 196977\n",
      "Data columns (total 11 columns):\n",
      "C/A                                                                     196978 non-null object\n",
      "UNIT                                                                    196978 non-null object\n",
      "SCP                                                                     196978 non-null object\n",
      "STATION                                                                 196978 non-null object\n",
      "LINENAME                                                                196978 non-null object\n",
      "DIVISION                                                                196978 non-null object\n",
      "DATE                                                                    196978 non-null object\n",
      "TIME                                                                    196978 non-null object\n",
      "DESC                                                                    196978 non-null object\n",
      "ENTRIES                                                                 196978 non-null int64\n",
      "EXITS                                                                   196978 non-null int64\n",
      "dtypes: int64(2), object(9)\n",
      "memory usage: 16.5+ MB\n"
     ]
    }
   ],
   "source": [
    "data.info()"
   ]
  },
  {
   "cell_type": "code",
   "execution_count": 4,
   "metadata": {},
   "outputs": [
    {
     "data": {
      "text/html": [
       "<div>\n",
       "<style scoped>\n",
       "    .dataframe tbody tr th:only-of-type {\n",
       "        vertical-align: middle;\n",
       "    }\n",
       "\n",
       "    .dataframe tbody tr th {\n",
       "        vertical-align: top;\n",
       "    }\n",
       "\n",
       "    .dataframe thead th {\n",
       "        text-align: right;\n",
       "    }\n",
       "</style>\n",
       "<table border=\"1\" class=\"dataframe\">\n",
       "  <thead>\n",
       "    <tr style=\"text-align: right;\">\n",
       "      <th></th>\n",
       "      <th>C/A</th>\n",
       "      <th>UNIT</th>\n",
       "      <th>SCP</th>\n",
       "      <th>STATION</th>\n",
       "      <th>LINENAME</th>\n",
       "      <th>DIVISION</th>\n",
       "      <th>DATE</th>\n",
       "      <th>TIME</th>\n",
       "      <th>DESC</th>\n",
       "      <th>ENTRIES</th>\n",
       "      <th>EXITS</th>\n",
       "    </tr>\n",
       "  </thead>\n",
       "  <tbody>\n",
       "    <tr>\n",
       "      <th>0</th>\n",
       "      <td>A002</td>\n",
       "      <td>R051</td>\n",
       "      <td>02-00-00</td>\n",
       "      <td>59 ST</td>\n",
       "      <td>NQR456W</td>\n",
       "      <td>BMT</td>\n",
       "      <td>06/09/2018</td>\n",
       "      <td>00:00:00</td>\n",
       "      <td>REGULAR</td>\n",
       "      <td>6649975</td>\n",
       "      <td>2254182</td>\n",
       "    </tr>\n",
       "    <tr>\n",
       "      <th>1</th>\n",
       "      <td>A002</td>\n",
       "      <td>R051</td>\n",
       "      <td>02-00-00</td>\n",
       "      <td>59 ST</td>\n",
       "      <td>NQR456W</td>\n",
       "      <td>BMT</td>\n",
       "      <td>06/09/2018</td>\n",
       "      <td>04:00:00</td>\n",
       "      <td>REGULAR</td>\n",
       "      <td>6650004</td>\n",
       "      <td>2254188</td>\n",
       "    </tr>\n",
       "    <tr>\n",
       "      <th>2</th>\n",
       "      <td>A002</td>\n",
       "      <td>R051</td>\n",
       "      <td>02-00-00</td>\n",
       "      <td>59 ST</td>\n",
       "      <td>NQR456W</td>\n",
       "      <td>BMT</td>\n",
       "      <td>06/09/2018</td>\n",
       "      <td>08:00:00</td>\n",
       "      <td>REGULAR</td>\n",
       "      <td>6650022</td>\n",
       "      <td>2254209</td>\n",
       "    </tr>\n",
       "    <tr>\n",
       "      <th>3</th>\n",
       "      <td>A002</td>\n",
       "      <td>R051</td>\n",
       "      <td>02-00-00</td>\n",
       "      <td>59 ST</td>\n",
       "      <td>NQR456W</td>\n",
       "      <td>BMT</td>\n",
       "      <td>06/09/2018</td>\n",
       "      <td>12:00:00</td>\n",
       "      <td>REGULAR</td>\n",
       "      <td>6650118</td>\n",
       "      <td>2254289</td>\n",
       "    </tr>\n",
       "    <tr>\n",
       "      <th>4</th>\n",
       "      <td>A002</td>\n",
       "      <td>R051</td>\n",
       "      <td>02-00-00</td>\n",
       "      <td>59 ST</td>\n",
       "      <td>NQR456W</td>\n",
       "      <td>BMT</td>\n",
       "      <td>06/09/2018</td>\n",
       "      <td>16:00:00</td>\n",
       "      <td>REGULAR</td>\n",
       "      <td>6650332</td>\n",
       "      <td>2254345</td>\n",
       "    </tr>\n",
       "    <tr>\n",
       "      <th>5</th>\n",
       "      <td>A002</td>\n",
       "      <td>R051</td>\n",
       "      <td>02-00-00</td>\n",
       "      <td>59 ST</td>\n",
       "      <td>NQR456W</td>\n",
       "      <td>BMT</td>\n",
       "      <td>06/09/2018</td>\n",
       "      <td>20:00:00</td>\n",
       "      <td>REGULAR</td>\n",
       "      <td>6650579</td>\n",
       "      <td>2254378</td>\n",
       "    </tr>\n",
       "    <tr>\n",
       "      <th>6</th>\n",
       "      <td>A002</td>\n",
       "      <td>R051</td>\n",
       "      <td>02-00-00</td>\n",
       "      <td>59 ST</td>\n",
       "      <td>NQR456W</td>\n",
       "      <td>BMT</td>\n",
       "      <td>06/10/2018</td>\n",
       "      <td>00:00:00</td>\n",
       "      <td>REGULAR</td>\n",
       "      <td>6650723</td>\n",
       "      <td>2254407</td>\n",
       "    </tr>\n",
       "    <tr>\n",
       "      <th>7</th>\n",
       "      <td>A002</td>\n",
       "      <td>R051</td>\n",
       "      <td>02-00-00</td>\n",
       "      <td>59 ST</td>\n",
       "      <td>NQR456W</td>\n",
       "      <td>BMT</td>\n",
       "      <td>06/10/2018</td>\n",
       "      <td>04:00:00</td>\n",
       "      <td>REGULAR</td>\n",
       "      <td>6650747</td>\n",
       "      <td>2254415</td>\n",
       "    </tr>\n",
       "    <tr>\n",
       "      <th>8</th>\n",
       "      <td>A002</td>\n",
       "      <td>R051</td>\n",
       "      <td>02-00-00</td>\n",
       "      <td>59 ST</td>\n",
       "      <td>NQR456W</td>\n",
       "      <td>BMT</td>\n",
       "      <td>06/10/2018</td>\n",
       "      <td>08:00:00</td>\n",
       "      <td>REGULAR</td>\n",
       "      <td>6650770</td>\n",
       "      <td>2254427</td>\n",
       "    </tr>\n",
       "    <tr>\n",
       "      <th>9</th>\n",
       "      <td>A002</td>\n",
       "      <td>R051</td>\n",
       "      <td>02-00-00</td>\n",
       "      <td>59 ST</td>\n",
       "      <td>NQR456W</td>\n",
       "      <td>BMT</td>\n",
       "      <td>06/10/2018</td>\n",
       "      <td>12:00:00</td>\n",
       "      <td>REGULAR</td>\n",
       "      <td>6650827</td>\n",
       "      <td>2254487</td>\n",
       "    </tr>\n",
       "  </tbody>\n",
       "</table>\n",
       "</div>"
      ],
      "text/plain": [
       "    C/A  UNIT       SCP STATION LINENAME DIVISION        DATE      TIME  \\\n",
       "0  A002  R051  02-00-00   59 ST  NQR456W      BMT  06/09/2018  00:00:00   \n",
       "1  A002  R051  02-00-00   59 ST  NQR456W      BMT  06/09/2018  04:00:00   \n",
       "2  A002  R051  02-00-00   59 ST  NQR456W      BMT  06/09/2018  08:00:00   \n",
       "3  A002  R051  02-00-00   59 ST  NQR456W      BMT  06/09/2018  12:00:00   \n",
       "4  A002  R051  02-00-00   59 ST  NQR456W      BMT  06/09/2018  16:00:00   \n",
       "5  A002  R051  02-00-00   59 ST  NQR456W      BMT  06/09/2018  20:00:00   \n",
       "6  A002  R051  02-00-00   59 ST  NQR456W      BMT  06/10/2018  00:00:00   \n",
       "7  A002  R051  02-00-00   59 ST  NQR456W      BMT  06/10/2018  04:00:00   \n",
       "8  A002  R051  02-00-00   59 ST  NQR456W      BMT  06/10/2018  08:00:00   \n",
       "9  A002  R051  02-00-00   59 ST  NQR456W      BMT  06/10/2018  12:00:00   \n",
       "\n",
       "      DESC  ENTRIES  \\\n",
       "0  REGULAR  6649975   \n",
       "1  REGULAR  6650004   \n",
       "2  REGULAR  6650022   \n",
       "3  REGULAR  6650118   \n",
       "4  REGULAR  6650332   \n",
       "5  REGULAR  6650579   \n",
       "6  REGULAR  6650723   \n",
       "7  REGULAR  6650747   \n",
       "8  REGULAR  6650770   \n",
       "9  REGULAR  6650827   \n",
       "\n",
       "   EXITS                                                                 \n",
       "0                                            2254182                     \n",
       "1                                            2254188                     \n",
       "2                                            2254209                     \n",
       "3                                            2254289                     \n",
       "4                                            2254345                     \n",
       "5                                            2254378                     \n",
       "6                                            2254407                     \n",
       "7                                            2254415                     \n",
       "8                                            2254427                     \n",
       "9                                            2254487                     "
      ]
     },
     "execution_count": 4,
     "metadata": {},
     "output_type": "execute_result"
    }
   ],
   "source": [
    "data.head(10)"
   ]
  },
  {
   "cell_type": "code",
   "execution_count": 5,
   "metadata": {},
   "outputs": [
    {
     "data": {
      "text/html": [
       "<div>\n",
       "<style scoped>\n",
       "    .dataframe tbody tr th:only-of-type {\n",
       "        vertical-align: middle;\n",
       "    }\n",
       "\n",
       "    .dataframe tbody tr th {\n",
       "        vertical-align: top;\n",
       "    }\n",
       "\n",
       "    .dataframe thead th {\n",
       "        text-align: right;\n",
       "    }\n",
       "</style>\n",
       "<table border=\"1\" class=\"dataframe\">\n",
       "  <thead>\n",
       "    <tr style=\"text-align: right;\">\n",
       "      <th></th>\n",
       "      <th>ENTRIES</th>\n",
       "      <th>EXITS</th>\n",
       "    </tr>\n",
       "  </thead>\n",
       "  <tbody>\n",
       "    <tr>\n",
       "      <th>count</th>\n",
       "      <td>1.969780e+05</td>\n",
       "      <td>1.969780e+05</td>\n",
       "    </tr>\n",
       "    <tr>\n",
       "      <th>mean</th>\n",
       "      <td>4.040397e+07</td>\n",
       "      <td>3.309373e+07</td>\n",
       "    </tr>\n",
       "    <tr>\n",
       "      <th>std</th>\n",
       "      <td>2.092732e+08</td>\n",
       "      <td>1.923282e+08</td>\n",
       "    </tr>\n",
       "    <tr>\n",
       "      <th>min</th>\n",
       "      <td>0.000000e+00</td>\n",
       "      <td>0.000000e+00</td>\n",
       "    </tr>\n",
       "    <tr>\n",
       "      <th>25%</th>\n",
       "      <td>5.143135e+05</td>\n",
       "      <td>2.444542e+05</td>\n",
       "    </tr>\n",
       "    <tr>\n",
       "      <th>50%</th>\n",
       "      <td>2.534756e+06</td>\n",
       "      <td>1.448423e+06</td>\n",
       "    </tr>\n",
       "    <tr>\n",
       "      <th>75%</th>\n",
       "      <td>6.915278e+06</td>\n",
       "      <td>4.856676e+06</td>\n",
       "    </tr>\n",
       "    <tr>\n",
       "      <th>max</th>\n",
       "      <td>2.129887e+09</td>\n",
       "      <td>2.062611e+09</td>\n",
       "    </tr>\n",
       "  </tbody>\n",
       "</table>\n",
       "</div>"
      ],
      "text/plain": [
       "            ENTRIES  \\\n",
       "count  1.969780e+05   \n",
       "mean   4.040397e+07   \n",
       "std    2.092732e+08   \n",
       "min    0.000000e+00   \n",
       "25%    5.143135e+05   \n",
       "50%    2.534756e+06   \n",
       "75%    6.915278e+06   \n",
       "max    2.129887e+09   \n",
       "\n",
       "       EXITS                                                                 \n",
       "count                                       1.969780e+05                     \n",
       "mean                                        3.309373e+07                     \n",
       "std                                         1.923282e+08                     \n",
       "min                                         0.000000e+00                     \n",
       "25%                                         2.444542e+05                     \n",
       "50%                                         1.448423e+06                     \n",
       "75%                                         4.856676e+06                     \n",
       "max                                         2.062611e+09                     "
      ]
     },
     "execution_count": 5,
     "metadata": {},
     "output_type": "execute_result"
    }
   ],
   "source": [
    "data.describe()"
   ]
  },
  {
   "cell_type": "code",
   "execution_count": 6,
   "metadata": {},
   "outputs": [
    {
     "data": {
      "text/plain": [
       "['C/A',\n",
       " 'UNIT',\n",
       " 'SCP',\n",
       " 'STATION',\n",
       " 'LINENAME',\n",
       " 'DIVISION',\n",
       " 'DATE',\n",
       " 'TIME',\n",
       " 'DESC',\n",
       " 'ENTRIES',\n",
       " 'EXITS                                                               ']"
      ]
     },
     "execution_count": 6,
     "metadata": {},
     "output_type": "execute_result"
    }
   ],
   "source": [
    "list(data)"
   ]
  },
  {
   "cell_type": "code",
   "execution_count": 7,
   "metadata": {},
   "outputs": [
    {
     "name": "stdout",
     "output_type": "stream",
     "text": [
      "TIMEn = Represents the time (hh:mm:ss) for a scheduled audit event\n"
     ]
    },
    {
     "data": {
      "text/html": [
       "<div>\n",
       "<style scoped>\n",
       "    .dataframe tbody tr th:only-of-type {\n",
       "        vertical-align: middle;\n",
       "    }\n",
       "\n",
       "    .dataframe tbody tr th {\n",
       "        vertical-align: top;\n",
       "    }\n",
       "\n",
       "    .dataframe thead th {\n",
       "        text-align: right;\n",
       "    }\n",
       "</style>\n",
       "<table border=\"1\" class=\"dataframe\">\n",
       "  <thead>\n",
       "    <tr style=\"text-align: right;\">\n",
       "      <th></th>\n",
       "      <th>TIME</th>\n",
       "    </tr>\n",
       "  </thead>\n",
       "  <tbody>\n",
       "    <tr>\n",
       "      <th>196973</th>\n",
       "      <td>05:00:00</td>\n",
       "    </tr>\n",
       "    <tr>\n",
       "      <th>196974</th>\n",
       "      <td>09:00:00</td>\n",
       "    </tr>\n",
       "    <tr>\n",
       "      <th>196975</th>\n",
       "      <td>13:00:00</td>\n",
       "    </tr>\n",
       "    <tr>\n",
       "      <th>196976</th>\n",
       "      <td>17:00:00</td>\n",
       "    </tr>\n",
       "    <tr>\n",
       "      <th>196977</th>\n",
       "      <td>21:00:00</td>\n",
       "    </tr>\n",
       "  </tbody>\n",
       "</table>\n",
       "</div>"
      ],
      "text/plain": [
       "            TIME\n",
       "196973  05:00:00\n",
       "196974  09:00:00\n",
       "196975  13:00:00\n",
       "196976  17:00:00\n",
       "196977  21:00:00"
      ]
     },
     "execution_count": 7,
     "metadata": {},
     "output_type": "execute_result"
    }
   ],
   "source": [
    "print('TIMEn = Represents the time (hh:mm:ss) for a scheduled audit event')\n",
    "data[['TIME']].tail()"
   ]
  },
  {
   "cell_type": "code",
   "execution_count": 8,
   "metadata": {},
   "outputs": [
    {
     "name": "stdout",
     "output_type": "stream",
     "text": [
      "DATEn = Represents the date (YYYY-MM-DD)\n"
     ]
    },
    {
     "data": {
      "text/html": [
       "<div>\n",
       "<style scoped>\n",
       "    .dataframe tbody tr th:only-of-type {\n",
       "        vertical-align: middle;\n",
       "    }\n",
       "\n",
       "    .dataframe tbody tr th {\n",
       "        vertical-align: top;\n",
       "    }\n",
       "\n",
       "    .dataframe thead th {\n",
       "        text-align: right;\n",
       "    }\n",
       "</style>\n",
       "<table border=\"1\" class=\"dataframe\">\n",
       "  <thead>\n",
       "    <tr style=\"text-align: right;\">\n",
       "      <th></th>\n",
       "      <th>DATE</th>\n",
       "    </tr>\n",
       "  </thead>\n",
       "  <tbody>\n",
       "    <tr>\n",
       "      <th>196973</th>\n",
       "      <td>06/15/2018</td>\n",
       "    </tr>\n",
       "    <tr>\n",
       "      <th>196974</th>\n",
       "      <td>06/15/2018</td>\n",
       "    </tr>\n",
       "    <tr>\n",
       "      <th>196975</th>\n",
       "      <td>06/15/2018</td>\n",
       "    </tr>\n",
       "    <tr>\n",
       "      <th>196976</th>\n",
       "      <td>06/15/2018</td>\n",
       "    </tr>\n",
       "    <tr>\n",
       "      <th>196977</th>\n",
       "      <td>06/15/2018</td>\n",
       "    </tr>\n",
       "  </tbody>\n",
       "</table>\n",
       "</div>"
      ],
      "text/plain": [
       "              DATE\n",
       "196973  06/15/2018\n",
       "196974  06/15/2018\n",
       "196975  06/15/2018\n",
       "196976  06/15/2018\n",
       "196977  06/15/2018"
      ]
     },
     "execution_count": 8,
     "metadata": {},
     "output_type": "execute_result"
    }
   ],
   "source": [
    "print('DATEn = Represents the date (YYYY-MM-DD)')\n",
    "data[['DATE']].tail()"
   ]
  },
  {
   "cell_type": "code",
   "execution_count": 9,
   "metadata": {},
   "outputs": [
    {
     "name": "stdout",
     "output_type": "stream",
     "text": [
      "C/A = Control Area (A002)\n"
     ]
    },
    {
     "data": {
      "text/html": [
       "<div>\n",
       "<style scoped>\n",
       "    .dataframe tbody tr th:only-of-type {\n",
       "        vertical-align: middle;\n",
       "    }\n",
       "\n",
       "    .dataframe tbody tr th {\n",
       "        vertical-align: top;\n",
       "    }\n",
       "\n",
       "    .dataframe thead th {\n",
       "        text-align: right;\n",
       "    }\n",
       "</style>\n",
       "<table border=\"1\" class=\"dataframe\">\n",
       "  <thead>\n",
       "    <tr style=\"text-align: right;\">\n",
       "      <th></th>\n",
       "      <th>C/A</th>\n",
       "    </tr>\n",
       "  </thead>\n",
       "  <tbody>\n",
       "    <tr>\n",
       "      <th>0</th>\n",
       "      <td>A002</td>\n",
       "    </tr>\n",
       "    <tr>\n",
       "      <th>1</th>\n",
       "      <td>A002</td>\n",
       "    </tr>\n",
       "    <tr>\n",
       "      <th>2</th>\n",
       "      <td>A002</td>\n",
       "    </tr>\n",
       "    <tr>\n",
       "      <th>3</th>\n",
       "      <td>A002</td>\n",
       "    </tr>\n",
       "    <tr>\n",
       "      <th>4</th>\n",
       "      <td>A002</td>\n",
       "    </tr>\n",
       "  </tbody>\n",
       "</table>\n",
       "</div>"
      ],
      "text/plain": [
       "    C/A\n",
       "0  A002\n",
       "1  A002\n",
       "2  A002\n",
       "3  A002\n",
       "4  A002"
      ]
     },
     "execution_count": 9,
     "metadata": {},
     "output_type": "execute_result"
    }
   ],
   "source": [
    "print('C/A = Control Area (A002)')\n",
    "data[['C/A']].head()"
   ]
  },
  {
   "cell_type": "code",
   "execution_count": 10,
   "metadata": {},
   "outputs": [
    {
     "name": "stdout",
     "output_type": "stream",
     "text": [
      "UNIT = Remote Unit for a station (R051)\n"
     ]
    },
    {
     "data": {
      "text/html": [
       "<div>\n",
       "<style scoped>\n",
       "    .dataframe tbody tr th:only-of-type {\n",
       "        vertical-align: middle;\n",
       "    }\n",
       "\n",
       "    .dataframe tbody tr th {\n",
       "        vertical-align: top;\n",
       "    }\n",
       "\n",
       "    .dataframe thead th {\n",
       "        text-align: right;\n",
       "    }\n",
       "</style>\n",
       "<table border=\"1\" class=\"dataframe\">\n",
       "  <thead>\n",
       "    <tr style=\"text-align: right;\">\n",
       "      <th></th>\n",
       "      <th>UNIT</th>\n",
       "    </tr>\n",
       "  </thead>\n",
       "  <tbody>\n",
       "    <tr>\n",
       "      <th>0</th>\n",
       "      <td>R051</td>\n",
       "    </tr>\n",
       "    <tr>\n",
       "      <th>1</th>\n",
       "      <td>R051</td>\n",
       "    </tr>\n",
       "    <tr>\n",
       "      <th>2</th>\n",
       "      <td>R051</td>\n",
       "    </tr>\n",
       "    <tr>\n",
       "      <th>3</th>\n",
       "      <td>R051</td>\n",
       "    </tr>\n",
       "    <tr>\n",
       "      <th>4</th>\n",
       "      <td>R051</td>\n",
       "    </tr>\n",
       "  </tbody>\n",
       "</table>\n",
       "</div>"
      ],
      "text/plain": [
       "   UNIT\n",
       "0  R051\n",
       "1  R051\n",
       "2  R051\n",
       "3  R051\n",
       "4  R051"
      ]
     },
     "execution_count": 10,
     "metadata": {},
     "output_type": "execute_result"
    }
   ],
   "source": [
    "print('UNIT = Remote Unit for a station (R051)')\n",
    "data[['UNIT']].head()"
   ]
  },
  {
   "cell_type": "code",
   "execution_count": 11,
   "metadata": {},
   "outputs": [
    {
     "name": "stdout",
     "output_type": "stream",
     "text": [
      "SCP = Subunit Channel Position represents an specific address for a device (02-00-00)\n"
     ]
    },
    {
     "data": {
      "text/html": [
       "<div>\n",
       "<style scoped>\n",
       "    .dataframe tbody tr th:only-of-type {\n",
       "        vertical-align: middle;\n",
       "    }\n",
       "\n",
       "    .dataframe tbody tr th {\n",
       "        vertical-align: top;\n",
       "    }\n",
       "\n",
       "    .dataframe thead th {\n",
       "        text-align: right;\n",
       "    }\n",
       "</style>\n",
       "<table border=\"1\" class=\"dataframe\">\n",
       "  <thead>\n",
       "    <tr style=\"text-align: right;\">\n",
       "      <th></th>\n",
       "      <th>SCP</th>\n",
       "    </tr>\n",
       "  </thead>\n",
       "  <tbody>\n",
       "    <tr>\n",
       "      <th>0</th>\n",
       "      <td>02-00-00</td>\n",
       "    </tr>\n",
       "    <tr>\n",
       "      <th>1</th>\n",
       "      <td>02-00-00</td>\n",
       "    </tr>\n",
       "    <tr>\n",
       "      <th>2</th>\n",
       "      <td>02-00-00</td>\n",
       "    </tr>\n",
       "    <tr>\n",
       "      <th>3</th>\n",
       "      <td>02-00-00</td>\n",
       "    </tr>\n",
       "    <tr>\n",
       "      <th>4</th>\n",
       "      <td>02-00-00</td>\n",
       "    </tr>\n",
       "  </tbody>\n",
       "</table>\n",
       "</div>"
      ],
      "text/plain": [
       "        SCP\n",
       "0  02-00-00\n",
       "1  02-00-00\n",
       "2  02-00-00\n",
       "3  02-00-00\n",
       "4  02-00-00"
      ]
     },
     "execution_count": 11,
     "metadata": {},
     "output_type": "execute_result"
    }
   ],
   "source": [
    "print('SCP = Subunit Channel Position represents an specific address for a device (02-00-00)')\n",
    "data[['SCP']].head()"
   ]
  },
  {
   "cell_type": "code",
   "execution_count": 12,
   "metadata": {},
   "outputs": [
    {
     "name": "stdout",
     "output_type": "stream",
     "text": [
      "STATION  = Represents the station name the device is located at\n"
     ]
    },
    {
     "data": {
      "text/html": [
       "<div>\n",
       "<style scoped>\n",
       "    .dataframe tbody tr th:only-of-type {\n",
       "        vertical-align: middle;\n",
       "    }\n",
       "\n",
       "    .dataframe tbody tr th {\n",
       "        vertical-align: top;\n",
       "    }\n",
       "\n",
       "    .dataframe thead th {\n",
       "        text-align: right;\n",
       "    }\n",
       "</style>\n",
       "<table border=\"1\" class=\"dataframe\">\n",
       "  <thead>\n",
       "    <tr style=\"text-align: right;\">\n",
       "      <th></th>\n",
       "      <th>STATION</th>\n",
       "    </tr>\n",
       "  </thead>\n",
       "  <tbody>\n",
       "    <tr>\n",
       "      <th>0</th>\n",
       "      <td>59 ST</td>\n",
       "    </tr>\n",
       "    <tr>\n",
       "      <th>1</th>\n",
       "      <td>59 ST</td>\n",
       "    </tr>\n",
       "    <tr>\n",
       "      <th>2</th>\n",
       "      <td>59 ST</td>\n",
       "    </tr>\n",
       "    <tr>\n",
       "      <th>3</th>\n",
       "      <td>59 ST</td>\n",
       "    </tr>\n",
       "    <tr>\n",
       "      <th>4</th>\n",
       "      <td>59 ST</td>\n",
       "    </tr>\n",
       "  </tbody>\n",
       "</table>\n",
       "</div>"
      ],
      "text/plain": [
       "  STATION\n",
       "0   59 ST\n",
       "1   59 ST\n",
       "2   59 ST\n",
       "3   59 ST\n",
       "4   59 ST"
      ]
     },
     "execution_count": 12,
     "metadata": {},
     "output_type": "execute_result"
    }
   ],
   "source": [
    "print('STATION  = Represents the station name the device is located at')\n",
    "data[['STATION']].head()"
   ]
  },
  {
   "cell_type": "code",
   "execution_count": 13,
   "metadata": {},
   "outputs": [
    {
     "name": "stdout",
     "output_type": "stream",
     "text": [
      "LINENAME = Represents all train lines that can be boarded at this station            Normally lines are represented by one character.  LINENAME 456NQR repersents train server for 4, 5, 6, N, Q, and R trains.\n"
     ]
    },
    {
     "data": {
      "text/html": [
       "<div>\n",
       "<style scoped>\n",
       "    .dataframe tbody tr th:only-of-type {\n",
       "        vertical-align: middle;\n",
       "    }\n",
       "\n",
       "    .dataframe tbody tr th {\n",
       "        vertical-align: top;\n",
       "    }\n",
       "\n",
       "    .dataframe thead th {\n",
       "        text-align: right;\n",
       "    }\n",
       "</style>\n",
       "<table border=\"1\" class=\"dataframe\">\n",
       "  <thead>\n",
       "    <tr style=\"text-align: right;\">\n",
       "      <th></th>\n",
       "      <th>LINENAME</th>\n",
       "    </tr>\n",
       "  </thead>\n",
       "  <tbody>\n",
       "    <tr>\n",
       "      <th>0</th>\n",
       "      <td>NQR456W</td>\n",
       "    </tr>\n",
       "    <tr>\n",
       "      <th>1</th>\n",
       "      <td>NQR456W</td>\n",
       "    </tr>\n",
       "    <tr>\n",
       "      <th>2</th>\n",
       "      <td>NQR456W</td>\n",
       "    </tr>\n",
       "    <tr>\n",
       "      <th>3</th>\n",
       "      <td>NQR456W</td>\n",
       "    </tr>\n",
       "    <tr>\n",
       "      <th>4</th>\n",
       "      <td>NQR456W</td>\n",
       "    </tr>\n",
       "  </tbody>\n",
       "</table>\n",
       "</div>"
      ],
      "text/plain": [
       "  LINENAME\n",
       "0  NQR456W\n",
       "1  NQR456W\n",
       "2  NQR456W\n",
       "3  NQR456W\n",
       "4  NQR456W"
      ]
     },
     "execution_count": 13,
     "metadata": {},
     "output_type": "execute_result"
    }
   ],
   "source": [
    "print('LINENAME = Represents all train lines that can be boarded at this station \\\n",
    "           Normally lines are represented by one character.  LINENAME 456NQR repersents train server for 4, 5, 6, N, Q, and R trains.')\n",
    "data[['LINENAME']].head()"
   ]
  },
  {
   "cell_type": "code",
   "execution_count": 14,
   "metadata": {},
   "outputs": [
    {
     "name": "stdout",
     "output_type": "stream",
     "text": [
      "DIVISION = Represents the Line originally the station belonged to BMT, IRT, or IND \n"
     ]
    },
    {
     "data": {
      "text/html": [
       "<div>\n",
       "<style scoped>\n",
       "    .dataframe tbody tr th:only-of-type {\n",
       "        vertical-align: middle;\n",
       "    }\n",
       "\n",
       "    .dataframe tbody tr th {\n",
       "        vertical-align: top;\n",
       "    }\n",
       "\n",
       "    .dataframe thead th {\n",
       "        text-align: right;\n",
       "    }\n",
       "</style>\n",
       "<table border=\"1\" class=\"dataframe\">\n",
       "  <thead>\n",
       "    <tr style=\"text-align: right;\">\n",
       "      <th></th>\n",
       "      <th>DIVISION</th>\n",
       "    </tr>\n",
       "  </thead>\n",
       "  <tbody>\n",
       "    <tr>\n",
       "      <th>0</th>\n",
       "      <td>BMT</td>\n",
       "    </tr>\n",
       "    <tr>\n",
       "      <th>1</th>\n",
       "      <td>BMT</td>\n",
       "    </tr>\n",
       "    <tr>\n",
       "      <th>2</th>\n",
       "      <td>BMT</td>\n",
       "    </tr>\n",
       "    <tr>\n",
       "      <th>3</th>\n",
       "      <td>BMT</td>\n",
       "    </tr>\n",
       "    <tr>\n",
       "      <th>4</th>\n",
       "      <td>BMT</td>\n",
       "    </tr>\n",
       "  </tbody>\n",
       "</table>\n",
       "</div>"
      ],
      "text/plain": [
       "  DIVISION\n",
       "0      BMT\n",
       "1      BMT\n",
       "2      BMT\n",
       "3      BMT\n",
       "4      BMT"
      ]
     },
     "execution_count": 14,
     "metadata": {},
     "output_type": "execute_result"
    }
   ],
   "source": [
    "print('DIVISION = Represents the Line originally the station belonged to BMT, IRT, or IND ')\n",
    "data[['DIVISION']].head()"
   ]
  },
  {
   "cell_type": "code",
   "execution_count": 15,
   "metadata": {},
   "outputs": [
    {
     "name": "stdout",
     "output_type": "stream",
     "text": [
      "DESc = Represent the \"REGULAR\" scheduled audit event (Normally occurs every 4 hours)            1. Audits may occur more that 4 hours due to planning, or troubleshooting activities.            2. Additionally, there may be a \"RECOVR AUD\" entry: This refers to a missed audit that was recovered. \n"
     ]
    },
    {
     "data": {
      "text/html": [
       "<div>\n",
       "<style scoped>\n",
       "    .dataframe tbody tr th:only-of-type {\n",
       "        vertical-align: middle;\n",
       "    }\n",
       "\n",
       "    .dataframe tbody tr th {\n",
       "        vertical-align: top;\n",
       "    }\n",
       "\n",
       "    .dataframe thead th {\n",
       "        text-align: right;\n",
       "    }\n",
       "</style>\n",
       "<table border=\"1\" class=\"dataframe\">\n",
       "  <thead>\n",
       "    <tr style=\"text-align: right;\">\n",
       "      <th></th>\n",
       "      <th>DESC</th>\n",
       "    </tr>\n",
       "  </thead>\n",
       "  <tbody>\n",
       "    <tr>\n",
       "      <th>0</th>\n",
       "      <td>REGULAR</td>\n",
       "    </tr>\n",
       "    <tr>\n",
       "      <th>1</th>\n",
       "      <td>REGULAR</td>\n",
       "    </tr>\n",
       "    <tr>\n",
       "      <th>2</th>\n",
       "      <td>REGULAR</td>\n",
       "    </tr>\n",
       "    <tr>\n",
       "      <th>3</th>\n",
       "      <td>REGULAR</td>\n",
       "    </tr>\n",
       "    <tr>\n",
       "      <th>4</th>\n",
       "      <td>REGULAR</td>\n",
       "    </tr>\n",
       "  </tbody>\n",
       "</table>\n",
       "</div>"
      ],
      "text/plain": [
       "      DESC\n",
       "0  REGULAR\n",
       "1  REGULAR\n",
       "2  REGULAR\n",
       "3  REGULAR\n",
       "4  REGULAR"
      ]
     },
     "execution_count": 15,
     "metadata": {},
     "output_type": "execute_result"
    }
   ],
   "source": [
    "print('DESc = Represent the \"REGULAR\" scheduled audit event (Normally occurs every 4 hours) \\\n",
    "           1. Audits may occur more that 4 hours due to planning, or troubleshooting activities. \\\n",
    "           2. Additionally, there may be a \"RECOVR AUD\" entry: This refers to a missed audit that was recovered. ')\n",
    "data[['DESC']].head()"
   ]
  },
  {
   "cell_type": "code",
   "execution_count": 16,
   "metadata": {},
   "outputs": [
    {
     "name": "stdout",
     "output_type": "stream",
     "text": [
      "ENTRIES = The cumulative entry register value for a device\n"
     ]
    },
    {
     "data": {
      "text/html": [
       "<div>\n",
       "<style scoped>\n",
       "    .dataframe tbody tr th:only-of-type {\n",
       "        vertical-align: middle;\n",
       "    }\n",
       "\n",
       "    .dataframe tbody tr th {\n",
       "        vertical-align: top;\n",
       "    }\n",
       "\n",
       "    .dataframe thead th {\n",
       "        text-align: right;\n",
       "    }\n",
       "</style>\n",
       "<table border=\"1\" class=\"dataframe\">\n",
       "  <thead>\n",
       "    <tr style=\"text-align: right;\">\n",
       "      <th></th>\n",
       "      <th>ENTRIES</th>\n",
       "    </tr>\n",
       "  </thead>\n",
       "  <tbody>\n",
       "    <tr>\n",
       "      <th>0</th>\n",
       "      <td>6649975</td>\n",
       "    </tr>\n",
       "    <tr>\n",
       "      <th>1</th>\n",
       "      <td>6650004</td>\n",
       "    </tr>\n",
       "    <tr>\n",
       "      <th>2</th>\n",
       "      <td>6650022</td>\n",
       "    </tr>\n",
       "    <tr>\n",
       "      <th>3</th>\n",
       "      <td>6650118</td>\n",
       "    </tr>\n",
       "    <tr>\n",
       "      <th>4</th>\n",
       "      <td>6650332</td>\n",
       "    </tr>\n",
       "  </tbody>\n",
       "</table>\n",
       "</div>"
      ],
      "text/plain": [
       "   ENTRIES\n",
       "0  6649975\n",
       "1  6650004\n",
       "2  6650022\n",
       "3  6650118\n",
       "4  6650332"
      ]
     },
     "execution_count": 16,
     "metadata": {},
     "output_type": "execute_result"
    }
   ],
   "source": [
    "print('ENTRIES = The cumulative entry register value for a device')\n",
    "data[['ENTRIES']].head()"
   ]
  },
  {
   "cell_type": "code",
   "execution_count": 17,
   "metadata": {},
   "outputs": [
    {
     "data": {
      "text/plain": [
       "array(['C/A', 'UNIT', 'SCP', 'STATION', 'LINENAME', 'DIVISION', 'DATE',\n",
       "       'TIME', 'DESC', 'ENTRIES',\n",
       "       'EXITS                                                               '], dtype=object)"
      ]
     },
     "execution_count": 17,
     "metadata": {},
     "output_type": "execute_result"
    }
   ],
   "source": [
    "data.columns.values"
   ]
  },
  {
   "cell_type": "code",
   "execution_count": 18,
   "metadata": {},
   "outputs": [
    {
     "name": "stdout",
     "output_type": "stream",
     "text": [
      "EXITS = The cumulative exit register value for a device\n"
     ]
    },
    {
     "data": {
      "text/html": [
       "<div>\n",
       "<style scoped>\n",
       "    .dataframe tbody tr th:only-of-type {\n",
       "        vertical-align: middle;\n",
       "    }\n",
       "\n",
       "    .dataframe tbody tr th {\n",
       "        vertical-align: top;\n",
       "    }\n",
       "\n",
       "    .dataframe thead th {\n",
       "        text-align: right;\n",
       "    }\n",
       "</style>\n",
       "<table border=\"1\" class=\"dataframe\">\n",
       "  <thead>\n",
       "    <tr style=\"text-align: right;\">\n",
       "      <th></th>\n",
       "      <th>EXITS</th>\n",
       "    </tr>\n",
       "  </thead>\n",
       "  <tbody>\n",
       "    <tr>\n",
       "      <th>0</th>\n",
       "      <td>2254182</td>\n",
       "    </tr>\n",
       "    <tr>\n",
       "      <th>1</th>\n",
       "      <td>2254188</td>\n",
       "    </tr>\n",
       "    <tr>\n",
       "      <th>2</th>\n",
       "      <td>2254209</td>\n",
       "    </tr>\n",
       "    <tr>\n",
       "      <th>3</th>\n",
       "      <td>2254289</td>\n",
       "    </tr>\n",
       "    <tr>\n",
       "      <th>4</th>\n",
       "      <td>2254345</td>\n",
       "    </tr>\n",
       "  </tbody>\n",
       "</table>\n",
       "</div>"
      ],
      "text/plain": [
       "     EXITS\n",
       "0  2254182\n",
       "1  2254188\n",
       "2  2254209\n",
       "3  2254289\n",
       "4  2254345"
      ]
     },
     "execution_count": 18,
     "metadata": {},
     "output_type": "execute_result"
    }
   ],
   "source": [
    "print('EXITS = The cumulative exit register value for a device')\n",
    "data = data.rename(columns = {'EXITS                                                               ':'EXITS'})\n",
    "data[['EXITS']].head()"
   ]
  },
  {
   "cell_type": "markdown",
   "metadata": {},
   "source": [
    "### Count Nans in each column"
   ]
  },
  {
   "cell_type": "code",
   "execution_count": 19,
   "metadata": {},
   "outputs": [
    {
     "data": {
      "text/plain": [
       "C/A         0\n",
       "UNIT        0\n",
       "SCP         0\n",
       "STATION     0\n",
       "LINENAME    0\n",
       "DIVISION    0\n",
       "DATE        0\n",
       "TIME        0\n",
       "DESC        0\n",
       "ENTRIES     0\n",
       "EXITS       0\n",
       "dtype: int64"
      ]
     },
     "execution_count": 19,
     "metadata": {},
     "output_type": "execute_result"
    }
   ],
   "source": [
    "data.isnull().sum()"
   ]
  },
  {
   "cell_type": "markdown",
   "metadata": {},
   "source": [
    "### There's fortunately no NaN values. What about empty values?"
   ]
  },
  {
   "cell_type": "code",
   "execution_count": 20,
   "metadata": {},
   "outputs": [
    {
     "data": {
      "text/plain": [
       "array([0])"
      ]
     },
     "execution_count": 20,
     "metadata": {},
     "output_type": "execute_result"
    }
   ],
   "source": [
    "data.iloc[:, 1:].eq(\"\").sum(axis=1).unique()"
   ]
  },
  {
   "cell_type": "markdown",
   "metadata": {},
   "source": [
    "### There's also no \"blank\" cells. \n",
    "## Now, let's check uniques in each column:"
   ]
  },
  {
   "cell_type": "markdown",
   "metadata": {},
   "source": [
    "### Check for a weekdays of collecting data. Is data gathered during weekends?"
   ]
  },
  {
   "cell_type": "code",
   "execution_count": 21,
   "metadata": {},
   "outputs": [],
   "source": [
    "import datetime as dt"
   ]
  },
  {
   "cell_type": "code",
   "execution_count": 22,
   "metadata": {},
   "outputs": [],
   "source": [
    "data['DATE'] = pd.to_datetime(data['DATE'])"
   ]
  },
  {
   "cell_type": "code",
   "execution_count": 23,
   "metadata": {},
   "outputs": [
    {
     "data": {
      "text/plain": [
       "0         5\n",
       "1         5\n",
       "2         5\n",
       "3         5\n",
       "4         5\n",
       "5         5\n",
       "6         6\n",
       "7         6\n",
       "8         6\n",
       "9         6\n",
       "10        6\n",
       "11        6\n",
       "12        0\n",
       "13        0\n",
       "14        0\n",
       "15        0\n",
       "16        0\n",
       "17        0\n",
       "18        1\n",
       "19        1\n",
       "20        1\n",
       "21        1\n",
       "22        1\n",
       "23        1\n",
       "24        2\n",
       "25        2\n",
       "26        2\n",
       "27        2\n",
       "28        2\n",
       "29        2\n",
       "         ..\n",
       "196948    0\n",
       "196949    0\n",
       "196950    0\n",
       "196951    0\n",
       "196952    0\n",
       "196953    0\n",
       "196954    1\n",
       "196955    1\n",
       "196956    1\n",
       "196957    1\n",
       "196958    1\n",
       "196959    1\n",
       "196960    2\n",
       "196961    2\n",
       "196962    2\n",
       "196963    2\n",
       "196964    2\n",
       "196965    2\n",
       "196966    3\n",
       "196967    3\n",
       "196968    3\n",
       "196969    3\n",
       "196970    3\n",
       "196971    3\n",
       "196972    4\n",
       "196973    4\n",
       "196974    4\n",
       "196975    4\n",
       "196976    4\n",
       "196977    4\n",
       "Name: DATE, Length: 196978, dtype: int64"
      ]
     },
     "execution_count": 23,
     "metadata": {},
     "output_type": "execute_result"
    }
   ],
   "source": [
    "data['DATE'].dt.dayofweek"
   ]
  },
  {
   "cell_type": "code",
   "execution_count": 25,
   "metadata": {},
   "outputs": [],
   "source": [
    "dayOfWeek={0:'Monday', 1:'Tuesday', 2:'Wednesday', 3:'Thursday', 4:'Friday', 5:'Saturday', 6:'Sunday'}\n",
    "data['WEEKDAY'] = data['DATE'].dt.dayofweek.map(dayOfWeek)"
   ]
  },
  {
   "cell_type": "code",
   "execution_count": 26,
   "metadata": {},
   "outputs": [
    {
     "data": {
      "text/html": [
       "<div>\n",
       "<style scoped>\n",
       "    .dataframe tbody tr th:only-of-type {\n",
       "        vertical-align: middle;\n",
       "    }\n",
       "\n",
       "    .dataframe tbody tr th {\n",
       "        vertical-align: top;\n",
       "    }\n",
       "\n",
       "    .dataframe thead th {\n",
       "        text-align: right;\n",
       "    }\n",
       "</style>\n",
       "<table border=\"1\" class=\"dataframe\">\n",
       "  <thead>\n",
       "    <tr style=\"text-align: right;\">\n",
       "      <th></th>\n",
       "      <th>C/A</th>\n",
       "      <th>UNIT</th>\n",
       "      <th>SCP</th>\n",
       "      <th>STATION</th>\n",
       "      <th>LINENAME</th>\n",
       "      <th>DIVISION</th>\n",
       "      <th>DATE</th>\n",
       "      <th>TIME</th>\n",
       "      <th>DESC</th>\n",
       "      <th>ENTRIES</th>\n",
       "      <th>EXITS</th>\n",
       "      <th>WEEKDAY</th>\n",
       "    </tr>\n",
       "  </thead>\n",
       "  <tbody>\n",
       "    <tr>\n",
       "      <th>0</th>\n",
       "      <td>A002</td>\n",
       "      <td>R051</td>\n",
       "      <td>02-00-00</td>\n",
       "      <td>59 ST</td>\n",
       "      <td>NQR456W</td>\n",
       "      <td>BMT</td>\n",
       "      <td>2018-06-09</td>\n",
       "      <td>00:00:00</td>\n",
       "      <td>REGULAR</td>\n",
       "      <td>6649975</td>\n",
       "      <td>2254182</td>\n",
       "      <td>Saturday</td>\n",
       "    </tr>\n",
       "    <tr>\n",
       "      <th>1</th>\n",
       "      <td>A002</td>\n",
       "      <td>R051</td>\n",
       "      <td>02-00-00</td>\n",
       "      <td>59 ST</td>\n",
       "      <td>NQR456W</td>\n",
       "      <td>BMT</td>\n",
       "      <td>2018-06-09</td>\n",
       "      <td>04:00:00</td>\n",
       "      <td>REGULAR</td>\n",
       "      <td>6650004</td>\n",
       "      <td>2254188</td>\n",
       "      <td>Saturday</td>\n",
       "    </tr>\n",
       "    <tr>\n",
       "      <th>2</th>\n",
       "      <td>A002</td>\n",
       "      <td>R051</td>\n",
       "      <td>02-00-00</td>\n",
       "      <td>59 ST</td>\n",
       "      <td>NQR456W</td>\n",
       "      <td>BMT</td>\n",
       "      <td>2018-06-09</td>\n",
       "      <td>08:00:00</td>\n",
       "      <td>REGULAR</td>\n",
       "      <td>6650022</td>\n",
       "      <td>2254209</td>\n",
       "      <td>Saturday</td>\n",
       "    </tr>\n",
       "    <tr>\n",
       "      <th>3</th>\n",
       "      <td>A002</td>\n",
       "      <td>R051</td>\n",
       "      <td>02-00-00</td>\n",
       "      <td>59 ST</td>\n",
       "      <td>NQR456W</td>\n",
       "      <td>BMT</td>\n",
       "      <td>2018-06-09</td>\n",
       "      <td>12:00:00</td>\n",
       "      <td>REGULAR</td>\n",
       "      <td>6650118</td>\n",
       "      <td>2254289</td>\n",
       "      <td>Saturday</td>\n",
       "    </tr>\n",
       "    <tr>\n",
       "      <th>4</th>\n",
       "      <td>A002</td>\n",
       "      <td>R051</td>\n",
       "      <td>02-00-00</td>\n",
       "      <td>59 ST</td>\n",
       "      <td>NQR456W</td>\n",
       "      <td>BMT</td>\n",
       "      <td>2018-06-09</td>\n",
       "      <td>16:00:00</td>\n",
       "      <td>REGULAR</td>\n",
       "      <td>6650332</td>\n",
       "      <td>2254345</td>\n",
       "      <td>Saturday</td>\n",
       "    </tr>\n",
       "  </tbody>\n",
       "</table>\n",
       "</div>"
      ],
      "text/plain": [
       "    C/A  UNIT       SCP STATION LINENAME DIVISION       DATE      TIME  \\\n",
       "0  A002  R051  02-00-00   59 ST  NQR456W      BMT 2018-06-09  00:00:00   \n",
       "1  A002  R051  02-00-00   59 ST  NQR456W      BMT 2018-06-09  04:00:00   \n",
       "2  A002  R051  02-00-00   59 ST  NQR456W      BMT 2018-06-09  08:00:00   \n",
       "3  A002  R051  02-00-00   59 ST  NQR456W      BMT 2018-06-09  12:00:00   \n",
       "4  A002  R051  02-00-00   59 ST  NQR456W      BMT 2018-06-09  16:00:00   \n",
       "\n",
       "      DESC  ENTRIES    EXITS   WEEKDAY  \n",
       "0  REGULAR  6649975  2254182  Saturday  \n",
       "1  REGULAR  6650004  2254188  Saturday  \n",
       "2  REGULAR  6650022  2254209  Saturday  \n",
       "3  REGULAR  6650118  2254289  Saturday  \n",
       "4  REGULAR  6650332  2254345  Saturday  "
      ]
     },
     "execution_count": 26,
     "metadata": {},
     "output_type": "execute_result"
    }
   ],
   "source": [
    "data.head()"
   ]
  },
  {
   "cell_type": "code",
   "execution_count": 28,
   "metadata": {},
   "outputs": [
    {
     "data": {
      "text/plain": [
       "Friday       28570\n",
       "Sunday       28095\n",
       "Tuesday      28072\n",
       "Monday       28068\n",
       "Thursday     28061\n",
       "Wednesday    28058\n",
       "Saturday     28054\n",
       "Name: WEEKDAY, dtype: int64"
      ]
     },
     "execution_count": 28,
     "metadata": {},
     "output_type": "execute_result"
    }
   ],
   "source": [
    "data['WEEKDAY'].value_counts()"
   ]
  },
  {
   "cell_type": "markdown",
   "metadata": {},
   "source": [
    "#### As seen above, data is collected regularly even during weekends\n",
    "\n",
    "### Now it's time to check for Control Area information"
   ]
  },
  {
   "cell_type": "code",
   "execution_count": 29,
   "metadata": {},
   "outputs": [
    {
     "data": {
      "text/plain": [
       "(731, array(['A002', 'A006', 'A007', 'A010', 'A011', 'A013', 'A014', 'A015',\n",
       "        'A016', 'A021', 'A022', 'A025', 'A027', 'A029', 'A030', 'A031',\n",
       "        'A033', 'A034', 'A035', 'A037', 'A038', 'A039', 'A041', 'A042',\n",
       "        'A043', 'A046', 'A047', 'A049', 'A050', 'A052', 'A053', 'A054',\n",
       "        'A055', 'A058', 'A060', 'A061', 'A064', 'A066', 'A069', 'A071',\n",
       "        'A077', 'A081', 'A082', 'A083', 'A084', 'A085', 'B004', 'B009',\n",
       "        'B010', 'B012', 'B013', 'B014', 'B015', 'B016', 'B017', 'B018',\n",
       "        'B019', 'B020', 'B021', 'B022', 'B023', 'B024', 'B024A', 'B025',\n",
       "        'B026', 'B027', 'B028', 'B029', 'B031', 'B032', 'B034', 'C001',\n",
       "        'C003', 'C004', 'C008', 'C009', 'C010', 'C011', 'C012', 'C014',\n",
       "        'C015', 'C016', 'C017', 'C018', 'C019', 'C020', 'C021', 'C022',\n",
       "        'C023', 'C024', 'C025', 'C026', 'C027', 'C028', 'D002', 'D004',\n",
       "        'D005', 'D006', 'D008', 'D009', 'D011', 'D012', 'D015', 'D016',\n",
       "        'E001', 'E003', 'E004', 'E005', 'E009', 'E011', 'E012', 'E013',\n",
       "        'E014', 'E015', 'E016', 'G001', 'G009', 'G011', 'G015', 'H001',\n",
       "        'H003', 'H005', 'H006', 'H007', 'H008', 'H009', 'H012', 'H013',\n",
       "        'H014', 'H015', 'H016', 'H017', 'H019', 'H022', 'H023', 'H026',\n",
       "        'H027', 'H028', 'H030', 'H032', 'H033', 'H035', 'H037', 'H038',\n",
       "        'H039', 'H040', 'H041', 'JFK01', 'JFK02', 'JFK03', 'J001', 'J002',\n",
       "        'J003', 'J005', 'J007', 'J009', 'J012', 'J013', 'J016', 'J017',\n",
       "        'J020', 'J021', 'J022', 'J023', 'J024', 'J025', 'J028', 'J030',\n",
       "        'J031', 'J032', 'J034', 'J035', 'J037', 'K017', 'K019', 'K022',\n",
       "        'K024', 'K025', 'K026', 'N001', 'N002A', 'N003', 'N006A', 'N007A',\n",
       "        'N009', 'N010', 'N011', 'N012', 'N013', 'N017', 'N019', 'N020',\n",
       "        'N022', 'N023', 'N024', 'N025', 'N026', 'N029', 'N030', 'N037',\n",
       "        'N039', 'N040', 'N044', 'N045', 'N049', 'N051', 'N056', 'N057',\n",
       "        'N060', 'N062', 'N062A', 'N063', 'N063A', 'N067', 'N068', 'N069',\n",
       "        'N070', 'N071', 'N072', 'N073', 'N075', 'N076', 'N077', 'N078',\n",
       "        'N080', 'N083', 'N086', 'N087', 'N089', 'N090', 'N091', 'N092',\n",
       "        'N094', 'N095', 'N095A', 'N098', 'N100', 'N101', 'N102', 'N103',\n",
       "        'N108', 'N110', 'N111', 'N112A', 'N113', 'N114', 'N116', 'N117',\n",
       "        'N118', 'N119', 'N120', 'N120A', 'N121B', 'N122', 'N123B', 'N124',\n",
       "        'N125', 'N126', 'N127', 'N128', 'N129', 'N130', 'N131', 'N133',\n",
       "        'N134', 'N135', 'N137', 'N138', 'N139', 'N141', 'N181', 'N181A',\n",
       "        'N182', 'N183', 'N184', 'N185', 'N186', 'N187', 'N191', 'N192',\n",
       "        'N193', 'N194', 'N195', 'N196', 'N202', 'N203', 'N205', 'N206',\n",
       "        'N207', 'N208', 'N209', 'N210', 'N212', 'N213', 'N215', 'N217',\n",
       "        'N218', 'N220', 'N221', 'N222', 'N223', 'N224', 'N225', 'N300',\n",
       "        'N301', 'N303', 'N304', 'N305', 'N305A', 'N306', 'N307', 'N309A',\n",
       "        'N310', 'N311', 'N312', 'N314', 'N315', 'N316', 'N316A', 'N317',\n",
       "        'N318', 'N319', 'N322', 'N323', 'N324', 'N325A', 'N327', 'N329',\n",
       "        'N329A', 'N330', 'N330C', 'N331', 'N332', 'N333', 'N333A', 'N333B',\n",
       "        'N334B', 'N335', 'N336', 'N337', 'N338', 'N338B', 'N339', 'N339A',\n",
       "        'N340', 'N340A', 'N342', 'N343', 'N400A', 'N401', 'N405', 'N408A',\n",
       "        'N409', 'N412', 'N414', 'N414A', 'N415', 'N416', 'N417', 'N418',\n",
       "        'N419', 'N420B', 'N422', 'N500', 'N501', 'N501A', 'N502', 'N503',\n",
       "        'N504', 'N505', 'N506', 'N507', 'N508', 'N509', 'N510', 'N511',\n",
       "        'N512', 'N513', 'N519', 'N519A', 'N520', 'N521', 'N523', 'N525',\n",
       "        'N526', 'N528', 'N529', 'N530', 'N531', 'N532', 'N533', 'N534',\n",
       "        'N535', 'N536', 'N537', 'N539', 'N541', 'N542', 'N543', 'N544',\n",
       "        'N545', 'N546', 'N547', 'N548', 'N549', 'N550', 'N551', 'N553',\n",
       "        'N554', 'N555', 'N556', 'N557', 'N558', 'N559', 'N561', 'N562',\n",
       "        'N600', 'N601', 'N601A', 'N602', 'N603', 'N604', 'N605', 'N606',\n",
       "        'N607', 'N700', 'N700A', 'N701', 'N701A', 'N702', 'N702A', 'OB01',\n",
       "        'PTH01', 'PTH02', 'PTH03', 'PTH04', 'PTH05', 'PTH06', 'PTH07',\n",
       "        'PTH09', 'PTH10', 'PTH11', 'PTH12', 'PTH13', 'PTH16', 'PTH17',\n",
       "        'PTH18', 'PTH19', 'PTH20', 'PTH21', 'PTH22', 'R101', 'R102', 'R103',\n",
       "        'R110', 'R111', 'R112', 'R113', 'R114', 'R115', 'R116', 'R117',\n",
       "        'R118', 'R119', 'R120', 'R121', 'R122', 'R123', 'R124', 'R125',\n",
       "        'R126', 'R127', 'R128', 'R129', 'R130', 'R131', 'R132', 'R133',\n",
       "        'R134', 'R135', 'R137', 'R138', 'R139', 'R141', 'R142', 'R143',\n",
       "        'R145', 'R147', 'R148', 'R151', 'R154', 'R155', 'R158', 'R159',\n",
       "        'R160', 'R160A', 'R161A', 'R161B', 'R162', 'R163', 'R164', 'R165',\n",
       "        'R166', 'R168A', 'R169', 'R170', 'R171', 'R172', 'R173', 'R174',\n",
       "        'R175', 'R176', 'R177', 'R178', 'R179', 'R180', 'R182', 'R183',\n",
       "        'R185', 'R186', 'R188', 'R190', 'R192', 'R194', 'R196', 'R197',\n",
       "        'R200A', 'R201', 'R202', 'R203', 'R203A', 'R204', 'R204A', 'R205A',\n",
       "        'R206', 'R208', 'R210', 'R210A', 'R215', 'R216', 'R217A', 'R219',\n",
       "        'R220', 'R221', 'R226', 'R226A', 'R227', 'R227A', 'R228', 'R229',\n",
       "        'R230', 'R231', 'R231A', 'R232', 'R232A', 'R236', 'R237', 'R237B',\n",
       "        'R238', 'R238A', 'R240', 'R241A', 'R242', 'R242A', 'R243', 'R244',\n",
       "        'R244A', 'R245', 'R245A', 'R246', 'R247', 'R248', 'R249', 'R250',\n",
       "        'R251', 'R252', 'R253', 'R254', 'R256', 'R257', 'R258', 'R259',\n",
       "        'R260', 'R261', 'R262', 'R262A', 'R262B', 'R283', 'R284', 'R285',\n",
       "        'R286', 'R287', 'R288', 'R289', 'R290', 'R291', 'R293', 'R294',\n",
       "        'R301', 'R302', 'R303', 'R304', 'R305', 'R306', 'R307', 'R308',\n",
       "        'R309', 'R310', 'R311', 'R312', 'R314', 'R315', 'R316', 'R317',\n",
       "        'R318', 'R319', 'R320', 'R321', 'R322', 'R323', 'R325', 'R326',\n",
       "        'R327', 'R328', 'R329', 'R330', 'R331', 'R332', 'R333', 'R334',\n",
       "        'R335', 'R336', 'R401', 'R402', 'R403', 'R404', 'R405', 'R406',\n",
       "        'R407', 'R408', 'R409', 'R410', 'R411', 'R412', 'R413', 'R414',\n",
       "        'R415', 'R416', 'R417', 'R418', 'R419', 'R420', 'R421', 'R422',\n",
       "        'R423', 'R501', 'R503', 'R504', 'R506', 'R507', 'R508', 'R509',\n",
       "        'R510', 'R512', 'R514', 'R515', 'R516', 'R517', 'R518', 'R519',\n",
       "        'R520', 'R521', 'R523', 'R524', 'R525', 'R526', 'R527', 'R528',\n",
       "        'R529', 'R530', 'R532', 'R532H', 'R533', 'R534', 'R550', 'R600',\n",
       "        'R601A', 'R602', 'R604', 'R605', 'R606', 'R608', 'R609', 'R610',\n",
       "        'R612', 'R617', 'R618', 'R619', 'R621', 'R622', 'R623', 'R624',\n",
       "        'R625', 'R626', 'R627', 'R628', 'R629', 'R630', 'R632', 'R633',\n",
       "        'R634', 'R635', 'R636', 'R637', 'R639', 'R641', 'R643', 'R644',\n",
       "        'R645', 'R646', 'R647', 'R726', 'R727', 'R728', 'R729', 'R730',\n",
       "        'S101', 'S101A', 'S102', 'TRAM1', 'TRAM2'], dtype=object))"
      ]
     },
     "execution_count": 29,
     "metadata": {},
     "output_type": "execute_result"
    }
   ],
   "source": [
    "len(data['C/A'].unique()), data['C/A'].unique()"
   ]
  },
  {
   "cell_type": "markdown",
   "metadata": {},
   "source": [
    "### Checking for Remote Unit for station column"
   ]
  },
  {
   "cell_type": "code",
   "execution_count": 30,
   "metadata": {},
   "outputs": [
    {
     "data": {
      "text/plain": [
       "(463, array(['R051', 'R079', 'R080', 'R081', 'R032', 'R022', 'R023', 'R082',\n",
       "        'R083', 'R170', 'R085', 'R086', 'R462', 'R463', 'R087', 'R088',\n",
       "        'R227', 'R001', 'R142', 'R311', 'R118', 'R044', 'R028', 'R125',\n",
       "        'R171', 'R411', 'R412', 'R196', 'R148', 'R098', 'R262', 'R184',\n",
       "        'R149', 'R263', 'R228', 'R229', 'R211', 'R150', 'R230', 'R136',\n",
       "        'R172', 'R264', 'R108', 'R089', 'R099', 'R057', 'R231', 'R258',\n",
       "        'R246', 'R278', 'R455', 'R197', 'R232', 'R233', 'R212', 'R213',\n",
       "        'R214', 'R215', 'R216', 'R390', 'R391', 'R398', 'R392', 'R393',\n",
       "        'R394', 'R395', 'R396', 'R397', 'R368', 'R369', 'R234', 'R247',\n",
       "        'R370', 'R371', 'R372', 'R373', 'R374', 'R399', 'R400', 'R151',\n",
       "        'R312', 'R175', 'R163', 'R330', 'R248', 'R235', 'R268', 'R249',\n",
       "        'R250', 'R265', 'R294', 'R279', 'R236', 'R137', 'R266', 'R295',\n",
       "        'R313', 'R348', 'R349', 'R350', 'R375', 'R376', 'R152', 'R535',\n",
       "        'R536', 'R460', 'R352', 'R353', 'R377', 'R378', 'R379', 'R380',\n",
       "        'R381', 'R432', 'R433', 'R434', 'R435', 'R436', 'R437', 'R003',\n",
       "        'R004', 'R005', 'R006', 'R007', 'R008', 'R009', 'R401', 'R413',\n",
       "        'R402', 'R403', 'R404', 'R100', 'R173', 'R185', 'R280', 'R174',\n",
       "        'R126', 'R035', 'R331', 'R101', 'R332', 'R102', 'R333', 'R314',\n",
       "        'R251', 'R187', 'R084', 'R188', 'R010', 'R011', 'R012', 'R013',\n",
       "        'R111', 'R138', 'R282', 'R139', 'R029', 'R014', 'R252', 'R127',\n",
       "        'R217', 'R283', 'R284', 'R297', 'R198', 'R199', 'R153', 'R438',\n",
       "        'R439', 'R103', 'R440', 'R441', 'R442', 'R200', 'R382', 'R383',\n",
       "        'R384', 'R385', 'R354', 'R355', 'R356', 'R357', 'R464', 'R414',\n",
       "        'R415', 'R416', 'R417', 'R418', 'R419', 'R335', 'R336', 'R337',\n",
       "        'R338', 'R358', 'R285', 'R315', 'R195', 'R104', 'R443', 'R253',\n",
       "        'R154', 'R237', 'R112', 'R155', 'R156', 'R157', 'R113', 'R015',\n",
       "        'R017', 'R016', 'R359', 'R140', 'R339', 'R238', 'R267', 'R298',\n",
       "        'R340', 'R018', 'R218', 'R254', 'R201', 'R202', 'R219', 'R141',\n",
       "        'R341', 'R158', 'R255', 'R128', 'R114', 'R115', 'R019', 'R360',\n",
       "        'R239', 'R256', 'R299', 'R316', 'R286', 'R269', 'R287', 'R317',\n",
       "        'R318', 'R020', 'R021', 'R453', 'R203', 'R461', 'R240', 'R300',\n",
       "        'R257', 'R301', 'R129', 'R220', 'R270', 'R288', 'R241', 'R289',\n",
       "        'R204', 'R420', 'R242', 'R421', 'R422', 'R423', 'R424', 'R130',\n",
       "        'R425', 'R271', 'R426', 'R302', 'R319', 'R259', 'R303', 'R342',\n",
       "        'R024', 'R025', 'R570', 'R571', 'R572', 'R459', 'R549', 'R544',\n",
       "        'R552', 'R551', 'R543', 'R546', 'R550', 'R548', 'R547', 'R545',\n",
       "        'R542', 'R541', 'R540', 'R304', 'R027', 'R030', 'R343', 'R320',\n",
       "        'R290', 'R189', 'R105', 'R321', 'R190', 'R272', 'R031', 'R293',\n",
       "        'R033', 'R116', 'R164', 'R452', 'R166', 'R167', 'R168', 'R191',\n",
       "        'R192', 'R159', 'R034', 'R169', 'R273', 'R193', 'R260', 'R274',\n",
       "        'R036', 'R037', 'R038', 'R039', 'R040', 'R306', 'R117', 'R041',\n",
       "        'R042', 'R043', 'R322', 'R194', 'R160', 'R131', 'R143', 'R176',\n",
       "        'R045', 'R046', 'R047', 'R048', 'R049', 'R050', 'R177', 'R178',\n",
       "        'R179', 'R144', 'R180', 'R181', 'R182', 'R132', 'R307', 'R205',\n",
       "        'R221', 'R243', 'R308', 'R309', 'R244', 'R275', 'R119', 'R161',\n",
       "        'R183', 'R133', 'R052', 'R323', 'R324', 'R206', 'R207', 'R344',\n",
       "        'R345', 'R053', 'R405', 'R406', 'R407', 'R408', 'R409', 'R386',\n",
       "        'R387', 'R388', 'R389', 'R361', 'R362', 'R363', 'R364', 'R365',\n",
       "        'R366', 'R367', 'R444', 'R145', 'R445', 'R446', 'R447', 'R448',\n",
       "        'R449', 'R450', 'R146', 'R325', 'R162', 'R120', 'R245', 'R222',\n",
       "        'R106', 'R326', 'R107', 'R427', 'R428', 'R429', 'R054', 'R276',\n",
       "        'R134', 'R346', 'R121', 'R090', 'R092', 'R094', 'R095', 'R291',\n",
       "        'R261', 'R223', 'R327', 'R147', 'R347', 'R096', 'R122', 'R097',\n",
       "        'R208', 'R310', 'R328', 'R055', 'R072', 'R224', 'R456', 'R225',\n",
       "        'R056', 'R058', 'R059', 'R060', 'R123', 'R061', 'R124', 'R062',\n",
       "        'R063', 'R064', 'R065', 'R066', 'R067', 'R068', 'R069', 'R277',\n",
       "        'R209', 'R451', 'R109', 'R210', 'R135', 'R110', 'R329', 'R430',\n",
       "        'R226', 'R292', 'R431', 'R070', 'R165', 'R468', 'R469'], dtype=object))"
      ]
     },
     "execution_count": 30,
     "metadata": {},
     "output_type": "execute_result"
    }
   ],
   "source": [
    "len(data['UNIT'].unique()), data['UNIT'].unique()"
   ]
  },
  {
   "cell_type": "markdown",
   "metadata": {},
   "source": [
    "### Checking Subunit Channel Position values"
   ]
  },
  {
   "cell_type": "code",
   "execution_count": 31,
   "metadata": {},
   "outputs": [
    {
     "data": {
      "text/plain": [
       "(217, array(['02-00-00', '02-00-01', '02-03-00', '02-03-01', '02-03-02',\n",
       "        '02-03-03', '02-03-04', '02-03-05', '02-03-06', '02-05-00',\n",
       "        '02-05-01', '02-06-00', '00-00-00', '00-00-01', '00-00-02',\n",
       "        '00-00-03', '00-00-04', '00-03-00', '00-03-01', '00-03-02',\n",
       "        '01-05-00', '01-05-01', '01-06-00', '01-06-01', '01-06-02',\n",
       "        '01-06-03', '00-00-05', '00-00-06', '00-00-07', '01-00-00',\n",
       "        '01-00-01', '01-00-02', '01-00-03', '01-00-04', '01-00-05',\n",
       "        '01-03-00', '01-03-01', '01-03-02', '02-00-02', '02-06-01',\n",
       "        '03-00-00', '03-00-01', '03-00-02', '03-06-00', '03-06-01',\n",
       "        '01-00-06', '01-00-07', '01-03-03', '02-00-03', '02-00-04',\n",
       "        '02-00-05', '03-03-00', '03-03-01', '03-03-02', '03-06-02',\n",
       "        '05-00-00', '05-00-01', '05-00-02', '05-00-03', '00-06-00',\n",
       "        '00-03-03', '00-03-04', '00-06-01', '00-06-02', '00-05-00',\n",
       "        '00-05-01', '00-05-02', '00-05-03', '00-06-03', '00-06-04',\n",
       "        '00-06-05', '00-06-06', '00-06-07', '00-06-08', '02-01-00',\n",
       "        '02-01-01', '02-01-02', '00-02-00', '00-02-01', '03-00-03',\n",
       "        '03-05-00', '03-05-01', '02-06-02', '04-00-00', '04-00-01',\n",
       "        '04-00-02', '04-00-03', '04-00-04', '04-05-00', '04-05-01',\n",
       "        '05-05-00', '05-05-01', '05-06-00', '05-06-01', '00-04-00',\n",
       "        '00-04-01', '03-03-03', '01-02-00', '01-02-01', '01-02-02',\n",
       "        '01-03-04', '00-00-08', '00-00-09', '00-03-05', '05-03-00',\n",
       "        '05-03-01', '05-03-02', '05-03-03', '05-03-04', '05-03-05',\n",
       "        '05-03-06', '02-00-06', '02-00-07', '02-00-08', '00-04-02',\n",
       "        '02-05-02', '02-05-03', '02-05-04', '03-00-04', '03-00-05',\n",
       "        '01-03-05', '01-03-06', '00-03-06', '00-03-07', '00-03-08',\n",
       "        '00-07-00', '00-07-01', '00-07-02', '01-04-00', '01-04-01',\n",
       "        '00-00-0A', '00-00-0B', '01-01-00', '01-01-01', '00-02-02',\n",
       "        '00-05-04', '02-01-03', '02-06-03', '02-00-09', '00-05-05',\n",
       "        '01-01-02', '01-01-03', '01-05-02', '01-05-03', '01-06-04',\n",
       "        '01-00-08', '00-01-00', '00-01-01', '00-01-02', '00-01-03',\n",
       "        '00-01-04', '00-01-05', '00-01-06', '00-04-03', '00-04-04',\n",
       "        '00-04-05', '00-01-07', '00-01-08', '00-04-06', '00-04-07',\n",
       "        '00-04-08', '00-04-09', '00-02-03', '00-02-04', '01-01-04',\n",
       "        '01-01-05', '01-01-06', '01-01-07', '01-01-08', '01-02-03',\n",
       "        '01-02-04', '01-00-09', '01-00-0A', '02-01-04', '02-01-05',\n",
       "        '02-01-06', '02-01-07', '02-02-00', '02-02-01', '02-02-02',\n",
       "        '02-02-03', '02-02-04', '03-00-06', '03-00-07', '03-01-00',\n",
       "        '03-01-01', '03-01-02', '03-01-03', '03-01-04', '03-01-05',\n",
       "        '03-01-06', '03-01-07', '03-01-08', '03-01-09', '00-02-05',\n",
       "        '00-02-06', '00-02-07', '00-05-06', '02-06-04', '02-06-05',\n",
       "        '04-06-00', '04-00-05', '04-00-06', '01-07-00', '01-07-01',\n",
       "        '04-02-00', '04-02-01', '04-02-02', '04-02-03', '04-03-00',\n",
       "        '04-03-01', '05-00-04', '05-00-05', '02-03-07', '00-03-09',\n",
       "        '00-03-0A', '00-03-0B'], dtype=object))"
      ]
     },
     "execution_count": 31,
     "metadata": {},
     "output_type": "execute_result"
    }
   ],
   "source": [
    "len(data['SCP'].unique()), data['SCP'].unique()"
   ]
  },
  {
   "cell_type": "markdown",
   "metadata": {},
   "source": [
    "### Checking stations info"
   ]
  },
  {
   "cell_type": "code",
   "execution_count": 32,
   "metadata": {},
   "outputs": [
    {
     "data": {
      "text/plain": [
       "(375, array(['59 ST', '5 AV/59 ST', '57 ST-7 AV', '49 ST', 'TIMES SQ-42 ST',\n",
       "        '34 ST-HERALD SQ', '28 ST', '23 ST', '14 ST-UNION SQ', '8 ST-NYU',\n",
       "        'PRINCE ST', 'CANAL ST', 'CITY HALL', 'CORTLANDT ST', 'RECTOR ST',\n",
       "        'WHITEHALL S-FRY', 'DELANCEY/ESSEX', 'BOWERY', 'CHAMBERS ST',\n",
       "        'FULTON ST', 'BROAD ST', '7 AV', 'PARK PLACE', 'BOTANIC GARDEN',\n",
       "        'PROSPECT PARK', 'PARKSIDE AV', 'CHURCH AV', 'BEVERLEY ROAD',\n",
       "        'CORTELYOU RD', 'NEWKIRK PLAZA', 'AVENUE H', 'AVENUE J', 'AVENUE M',\n",
       "        'KINGS HWY', 'AVENUE U', 'NECK RD', 'SHEEPSHEAD BAY',\n",
       "        'BRIGHTON BEACH', 'OCEAN PKWY', 'BOROUGH HALL', 'JAY ST-METROTEC',\n",
       "        'DEKALB AV', 'ATL AV-BARCLAY', 'UNION ST', '4AV-9 ST',\n",
       "        'PROSPECT AV', '25 ST', '36 ST', '45 ST', '53 ST', 'BAY RIDGE AV',\n",
       "        '77 ST', '86 ST', 'BAY RIDGE-95 ST', '8 AV', 'FT HAMILTON PKY',\n",
       "        'NEW UTRECHT AV', '18 AV', '20 AV', 'BAY PKWY', '9 AV', '50 ST',\n",
       "        '55 ST', '71 ST', '79 ST', '25 AV', 'BAY 50 ST', 'CONEY IS-STILLW',\n",
       "        'W 8 ST-AQUARIUM', '6 AV', '3 AV', '1 AV', 'BEDFORD AV',\n",
       "        'LORIMER ST', 'GRAHAM AV', 'GRAND ST', 'MONTROSE AV', 'MORGAN AV',\n",
       "        'JEFFERSON ST', 'MYRTLE-WYCKOFF', 'HALSEY ST', 'WILSON AV',\n",
       "        'BUSHWICK AV', 'ATLANTIC AV', 'SUTTER AV', 'LIVONIA AV', 'NEW LOTS',\n",
       "        'EAST 105 ST', 'CANARSIE-ROCKAW', 'HOWARD BCH JFK',\n",
       "        'JFK JAMAICA CT1', 'MARCY AV', 'HEWES ST', 'FLUSHING AV',\n",
       "        'MYRTLE AV', 'KOSCIUSZKO ST', 'GATES AV', 'CHAUNCEY ST',\n",
       "        'ALABAMA AV', 'VAN SICLEN AV', 'CLEVELAND ST', 'NORWOOD AV',\n",
       "        'CRESCENT ST', 'CYPRESS HILLS', '75 ST-ELDERTS', '85 ST-FOREST PK',\n",
       "        'WOODHAVEN BLVD', '104 ST', '111 ST', '121 ST', 'CENTRAL AV',\n",
       "        'KNICKERBOCKER', 'SENECA AVE', 'FOREST AVE', 'FRESH POND RD',\n",
       "        'METROPOLITAN AV', 'INWOOD-207 ST', 'DYCKMAN ST', '190 ST',\n",
       "        '181 ST', '175 ST', '168 ST', '155 ST', '145 ST', '135 ST',\n",
       "        '125 ST', '116 ST', '103 ST', '96 ST', '81 ST-MUSEUM',\n",
       "        '59 ST COLUMBUS', '42 ST-PORT AUTH', '34 ST-PENN STA', '14 ST',\n",
       "        'W 4 ST-WASH SQ', 'SPRING ST', 'WORLD TRADE CTR', 'HIGH ST',\n",
       "        'HOYT-SCHER', 'LAFAYETTE AV', 'CLINTON-WASH AV', 'FRANKLIN AV',\n",
       "        'NOSTRAND AV', 'KINGSTON-THROOP', 'UTICA AV', 'RALPH AV',\n",
       "        'ROCKAWAY AV', 'BROADWAY JCT', 'LIBERTY AV', 'VAN SICLEN AVE',\n",
       "        'SHEPHERD AV', 'EUCLID AV', 'GRANT AV', '80 ST', '88 ST',\n",
       "        'ROCKAWAY BLVD', 'OZONE PK LEFFRT', 'AQUEDUCT N.COND',\n",
       "        'AQUEDUCT RACETR', 'BROAD CHANNEL', 'BEACH 90 ST', 'BEACH 98 ST',\n",
       "        'BEACH 105 ST', 'ROCKAWAY PARK B', 'BEACH 67 ST', 'BEACH 60 ST',\n",
       "        'BEACH 44 ST', 'BEACH 36 ST', 'BEACH 25 ST', 'FAR ROCKAWAY',\n",
       "        '161/YANKEE STAD', '167 ST', '170 ST', '174-175 STS', 'TREMONT AV',\n",
       "        '182-183 STS', 'FORDHAM RD', 'KINGSBRIDGE RD', 'BEDFORD PK BLVD',\n",
       "        'NORWOOD 205 ST', '5 AV/53 ST', 'LEXINGTON AV/53', 'COURT SQ-23 ST',\n",
       "        'QUEENS PLAZA', 'STEINWAY ST', '46 ST', 'NORTHERN BLVD', '65 ST',\n",
       "        'JKSN HT-ROOSVLT', 'ELMHURST AV', 'GRAND-NEWTOWN',\n",
       "        '63 DR-REGO PARK', '67 AV', 'FOREST HILLS 71', '75 AV',\n",
       "        'KEW GARDENS', 'BRIARWOOD', 'SUTPHIN BLVD', 'PARSONS BLVD',\n",
       "        '169 ST', 'JAMAICA 179 ST', 'COURT SQ', '21 ST', 'GREENPOINT AV',\n",
       "        'NASSAU AV', 'BROADWAY', 'MYRTLE-WILLOUGH', 'BEDFORD-NOSTRAN',\n",
       "        'CLASSON AV', '47-50 STS ROCK', '42 ST-BRYANT PK',\n",
       "        \"B'WAY-LAFAYETTE\", '2 AV', 'EAST BROADWAY', 'YORK ST', 'BERGEN ST',\n",
       "        'CARROLL ST', 'SMITH-9 ST', '4 AV-9 ST', '15 ST-PROSPECT',\n",
       "        'DITMAS AV', 'AVENUE I', 'AVENUE N', 'AVENUE P', 'AVENUE X',\n",
       "        'NEPTUNE AV', '57 ST', 'LEXINGTON AV/63', 'ROOSEVELT ISLND',\n",
       "        '21 ST-QNSBRIDGE', 'JAMAICA VAN WK', 'SUTPHIN-ARCHER',\n",
       "        'JAMAICA CENTER', '72 ST-2 AVE', '86 ST-2 AVE', '96 ST-2 AVE',\n",
       "        'ORCHARD BEACH', 'NEWARK HW BMEBE', 'HARRISON', 'JOURNAL SQUARE',\n",
       "        'GROVE STREET', 'EXCHANGE PLACE', 'PAVONIA/NEWPORT', 'CITY / BUS',\n",
       "        'CHRISTOPHER ST', '9TH STREET', '14TH STREET', 'TWENTY THIRD ST',\n",
       "        'THIRTY ST', 'LACKAWANNA', 'THIRTY THIRD ST', 'NEWARK BM BW',\n",
       "        'NEWARK C', 'NEWARK HM HE', 'PATH WTC 2', 'PATH NEW WTC',\n",
       "        'SOUTH FERRY', 'WALL ST', 'FRANKLIN ST', 'HOUSTON ST', '18 ST',\n",
       "        '66 ST-LINCOLN', '72 ST', 'CATHEDRAL PKWY', '116 ST-COLUMBIA',\n",
       "        '137 ST CITY COL', '157 ST', '191 ST', '207 ST', '215 ST',\n",
       "        'MARBLE HILL-225', '231 ST', '238 ST', 'V.CORTLANDT PK',\n",
       "        'BOWLING GREEN', 'BROOKLYN BRIDGE', 'BLEECKER ST', 'ASTOR PL',\n",
       "        '33 ST', 'GRD CNTRL-42 ST', '51 ST', '68ST-HUNTER CO', '110 ST',\n",
       "        '138/GRAND CONC', '149/GRAND CONC', 'MT EDEN AV', '176 ST',\n",
       "        'BURNSIDE AV', '183 ST', 'MOSHOLU PKWY', 'WOODLAWN',\n",
       "        'CENTRAL PK N110', 'HARLEM 148 ST', '3 AV-149 ST', 'JACKSON AV',\n",
       "        'INTERVALE AV', 'SIMPSON ST', 'FREEMAN ST', '174 ST',\n",
       "        'WEST FARMS SQ', 'E 180 ST', 'BRONX PARK EAST', 'PELHAM PKWY',\n",
       "        'ALLERTON AV', 'BURKE AV', 'GUN HILL RD', '219 ST', '225 ST',\n",
       "        '233 ST', 'NEREID AV', 'WAKEFIELD/241', '3 AV 138 ST', 'BROOK AV',\n",
       "        'CYPRESS AV', \"E 143/ST MARY'S\", 'E 149 ST', 'LONGWOOD AV',\n",
       "        'HUNTS POINT AV', 'WHITLOCK AV', 'ELDER AV', 'MORISN AV/SNDVW',\n",
       "        'ST LAWRENCE AV', 'PARKCHESTER', 'CASTLE HILL AV', 'ZEREGA AV',\n",
       "        'WESTCHESTER SQ', 'MIDDLETOWN RD', 'BUHRE AV', 'PELHAM BAY PARK',\n",
       "        '5 AVE', 'VERNON-JACKSON', 'HUNTERS PT AV', 'QUEENSBORO PLZ',\n",
       "        '39 AV', 'ASTORIA BLVD', 'ASTORIA DITMARS', '33 ST-RAWSON ST',\n",
       "        '40 ST LOWERY ST', '46 ST BLISS ST', '52 ST', '61 ST WOODSIDE',\n",
       "        '69 ST', '74 ST-BROADWAY', '82 ST-JACKSON H', '90 ST-ELMHURST',\n",
       "        'JUNCTION BLVD', '103 ST-CORONA', 'METS-WILLETS PT',\n",
       "        'FLUSHING-MAIN', '34 ST-HUDSON YD', 'CLARK ST', 'HOYT ST',\n",
       "        'NEVINS ST', 'GRAND ARMY PLAZ', 'EASTN PKWY-MUSM', 'KINGSTON AV',\n",
       "        'CROWN HTS-UTICA', 'SUTTER AV-RUTLD', 'SARATOGA AV', 'JUNIUS ST',\n",
       "        'PENNSYLVANIA AV', 'NEW LOTS AV', 'PRESIDENT ST', 'STERLING ST',\n",
       "        'WINTHROP ST', 'BEVERLY RD', 'NEWKIRK AV', 'FLATBUSH AV-B.C',\n",
       "        'MORRIS PARK', 'BAYCHESTER AV', 'EASTCHSTER/DYRE', 'ST. GEORGE',\n",
       "        'TOMPKINSVILLE', 'RIT-MANHATTAN', 'RIT-ROOSEVELT'], dtype=object))"
      ]
     },
     "execution_count": 32,
     "metadata": {},
     "output_type": "execute_result"
    }
   ],
   "source": [
    "len(data['STATION'].unique()), data['STATION'].unique()"
   ]
  },
  {
   "cell_type": "markdown",
   "metadata": {},
   "source": [
    "### Checking for linename and distinct unique linenames"
   ]
  },
  {
   "cell_type": "code",
   "execution_count": 33,
   "metadata": {},
   "outputs": [
    {
     "data": {
      "text/plain": [
       "(114, array(['NQR456W', 'NQRW', 'ACENQRS1237W', 'BDFMNQRW', 'NRW', 'LNQR456W',\n",
       "        'JNQRZ6W', 'RNW', 'R1W', 'FJMZ', 'JZ', 'JZ456', 'ACJZ2345', 'BQ',\n",
       "        'S', 'S2345', 'BQS', 'Q', 'R2345', 'R', 'BDNQR', 'BDNQR2345',\n",
       "        'DFGMNR', 'DNR', 'N', 'ND', 'D', 'DFNQ', 'FQ', 'ACEL', 'FLM123',\n",
       "        'L', 'LG', 'LM', 'A', 'E', 'JMZ', 'JM', 'J', 'M', 'AC1', 'C',\n",
       "        'ABCD', 'BC', 'ACBD', 'ABCD1', 'CE', 'ACENGRS1237W', 'ACE',\n",
       "        'ABCDEFM', 'ACE23', '2345ACJZ', 'AC', 'ACF', 'ACG', 'ACS', 'ACJLZ',\n",
       "        'AS', 'BD', 'BD4', 'BDE', 'EM', 'EM6', 'EMG', 'EMR', 'MR', 'EFMR7',\n",
       "        'EFMR', 'EF', 'F', 'G', 'GL', 'BDFM', 'BDFM7', 'FM', 'BDFQ6', 'FG',\n",
       "        'EJZ', '6', '1', '1RW', '23', '23ACE', '123', '123FLM', '123ACE',\n",
       "        '1237ACENQRSW', '1237ACENQRS', '1ABCD', '1AC', '45', '456JZ', '6DF',\n",
       "        '456LNQRW', '4567S', '456NQRW', '456', '245', '4BD', '4', '3', '25',\n",
       "        '2', '7BDFM', '7', '7NQW', 'NQW', '7EFMR', '2345R', '2345',\n",
       "        '2345BDNQR', '2345S', '34', '5'], dtype=object))"
      ]
     },
     "execution_count": 33,
     "metadata": {},
     "output_type": "execute_result"
    }
   ],
   "source": [
    "len(data['LINENAME'].unique()), data['LINENAME'].unique()"
   ]
  },
  {
   "cell_type": "code",
   "execution_count": 34,
   "metadata": {},
   "outputs": [],
   "source": [
    "lineNames = data.LINENAME"
   ]
  },
  {
   "cell_type": "code",
   "execution_count": 35,
   "metadata": {},
   "outputs": [],
   "source": [
    "lineName_list = set()\n",
    "for i in range(len(lineNames)):\n",
    "    lineName_list.add(lineNames[i])"
   ]
  },
  {
   "cell_type": "code",
   "execution_count": 36,
   "metadata": {},
   "outputs": [
    {
     "data": {
      "text/plain": [
       "{'1',\n",
       " '123',\n",
       " '1237ACENQRS',\n",
       " '1237ACENQRSW',\n",
       " '123ACE',\n",
       " '123FLM',\n",
       " '1ABCD',\n",
       " '1AC',\n",
       " '1RW',\n",
       " '2',\n",
       " '23',\n",
       " '2345',\n",
       " '2345ACJZ',\n",
       " '2345BDNQR',\n",
       " '2345R',\n",
       " '2345S',\n",
       " '23ACE',\n",
       " '245',\n",
       " '25',\n",
       " '3',\n",
       " '34',\n",
       " '4',\n",
       " '45',\n",
       " '456',\n",
       " '4567S',\n",
       " '456JZ',\n",
       " '456LNQRW',\n",
       " '456NQRW',\n",
       " '4BD',\n",
       " '5',\n",
       " '6',\n",
       " '6DF',\n",
       " '7',\n",
       " '7BDFM',\n",
       " '7EFMR',\n",
       " '7NQW',\n",
       " 'A',\n",
       " 'ABCD',\n",
       " 'ABCD1',\n",
       " 'ABCDEFM',\n",
       " 'AC',\n",
       " 'AC1',\n",
       " 'ACBD',\n",
       " 'ACE',\n",
       " 'ACE23',\n",
       " 'ACEL',\n",
       " 'ACENGRS1237W',\n",
       " 'ACENQRS1237W',\n",
       " 'ACF',\n",
       " 'ACG',\n",
       " 'ACJLZ',\n",
       " 'ACJZ2345',\n",
       " 'ACS',\n",
       " 'AS',\n",
       " 'BC',\n",
       " 'BD',\n",
       " 'BD4',\n",
       " 'BDE',\n",
       " 'BDFM',\n",
       " 'BDFM7',\n",
       " 'BDFMNQRW',\n",
       " 'BDFQ6',\n",
       " 'BDNQR',\n",
       " 'BDNQR2345',\n",
       " 'BQ',\n",
       " 'BQS',\n",
       " 'C',\n",
       " 'CE',\n",
       " 'D',\n",
       " 'DFGMNR',\n",
       " 'DFNQ',\n",
       " 'DNR',\n",
       " 'E',\n",
       " 'EF',\n",
       " 'EFMR',\n",
       " 'EFMR7',\n",
       " 'EJZ',\n",
       " 'EM',\n",
       " 'EM6',\n",
       " 'EMG',\n",
       " 'EMR',\n",
       " 'F',\n",
       " 'FG',\n",
       " 'FJMZ',\n",
       " 'FLM123',\n",
       " 'FM',\n",
       " 'FQ',\n",
       " 'G',\n",
       " 'GL',\n",
       " 'J',\n",
       " 'JM',\n",
       " 'JMZ',\n",
       " 'JNQRZ6W',\n",
       " 'JZ',\n",
       " 'JZ456',\n",
       " 'L',\n",
       " 'LG',\n",
       " 'LM',\n",
       " 'LNQR456W',\n",
       " 'M',\n",
       " 'MR',\n",
       " 'N',\n",
       " 'ND',\n",
       " 'NQR456W',\n",
       " 'NQRW',\n",
       " 'NQW',\n",
       " 'NRW',\n",
       " 'Q',\n",
       " 'R',\n",
       " 'R1W',\n",
       " 'R2345',\n",
       " 'RNW',\n",
       " 'S',\n",
       " 'S2345'}"
      ]
     },
     "execution_count": 36,
     "metadata": {},
     "output_type": "execute_result"
    }
   ],
   "source": [
    "lineName_list"
   ]
  },
  {
   "cell_type": "code",
   "execution_count": 37,
   "metadata": {},
   "outputs": [],
   "source": [
    "lineName_list = list(lineName_list)\n",
    "lines = set([item for sublist in lineName_list for item in sublist])"
   ]
  },
  {
   "cell_type": "code",
   "execution_count": 38,
   "metadata": {},
   "outputs": [
    {
     "data": {
      "text/plain": [
       "{'1',\n",
       " '2',\n",
       " '3',\n",
       " '4',\n",
       " '5',\n",
       " '6',\n",
       " '7',\n",
       " 'A',\n",
       " 'B',\n",
       " 'C',\n",
       " 'D',\n",
       " 'E',\n",
       " 'F',\n",
       " 'G',\n",
       " 'J',\n",
       " 'L',\n",
       " 'M',\n",
       " 'N',\n",
       " 'Q',\n",
       " 'R',\n",
       " 'S',\n",
       " 'W',\n",
       " 'Z'}"
      ]
     },
     "execution_count": 38,
     "metadata": {},
     "output_type": "execute_result"
    }
   ],
   "source": [
    "lines"
   ]
  },
  {
   "cell_type": "markdown",
   "metadata": {},
   "source": [
    "#### There're 23 lines in subway, connecting 114 stations\n",
    "\n",
    "### Check divisions"
   ]
  },
  {
   "cell_type": "code",
   "execution_count": 39,
   "metadata": {},
   "outputs": [
    {
     "data": {
      "text/plain": [
       "(6, array(['BMT', 'IND', 'PTH', 'IRT', 'SRT', 'RIT'], dtype=object))"
      ]
     },
     "execution_count": 39,
     "metadata": {},
     "output_type": "execute_result"
    }
   ],
   "source": [
    "len(data['DIVISION'].unique()), data['DIVISION'].unique()"
   ]
  },
  {
   "cell_type": "markdown",
   "metadata": {},
   "source": [
    "### Check for audits"
   ]
  },
  {
   "cell_type": "code",
   "execution_count": 40,
   "metadata": {},
   "outputs": [
    {
     "data": {
      "text/plain": [
       "(2, array(['REGULAR', 'RECOVR AUD'], dtype=object))"
      ]
     },
     "execution_count": 40,
     "metadata": {},
     "output_type": "execute_result"
    }
   ],
   "source": [
    "len(data['DESC'].unique()), data['DESC'].unique()"
   ]
  },
  {
   "cell_type": "markdown",
   "metadata": {},
   "source": [
    "#### There are only two types od audits: \n",
    "* REGULAR - every 4 hours or more\n",
    "* RECOVR AUD - for missed audits, recovery\n",
    "\n",
    "### Check for entries to subway"
   ]
  },
  {
   "cell_type": "code",
   "execution_count": 41,
   "metadata": {},
   "outputs": [
    {
     "name": "stdout",
     "output_type": "stream",
     "text": [
      "Uniques: 166645 \n",
      "Min: 0 Mean 40403965.219202146 Max: 2129886754\n"
     ]
    }
   ],
   "source": [
    "print('Uniques:', len(data['ENTRIES'].unique()), '\\nMin:', data['ENTRIES'].min(), 'Mean', data['ENTRIES'].mean(), 'Max:', data['ENTRIES'].max())"
   ]
  },
  {
   "cell_type": "markdown",
   "metadata": {},
   "source": [
    "### Check for exits from subway"
   ]
  },
  {
   "cell_type": "code",
   "execution_count": 42,
   "metadata": {},
   "outputs": [
    {
     "name": "stdout",
     "output_type": "stream",
     "text": [
      "Uniques: 165654 \n",
      "Min: 0 Mean 33093731.799206004 Max: 2062611370\n"
     ]
    }
   ],
   "source": [
    "print('Uniques:', len(data['EXITS'].unique()), '\\nMin:', data['EXITS'].min(), 'Mean', data['EXITS'].mean(), 'Max:', data['EXITS'].max())"
   ]
  },
  {
   "cell_type": "markdown",
   "metadata": {},
   "source": [
    "#### Let's the ML begin"
   ]
  },
  {
   "cell_type": "code",
   "execution_count": 43,
   "metadata": {},
   "outputs": [
    {
     "data": {
      "text/plain": [
       "<matplotlib.axes._subplots.AxesSubplot at 0x1a1ca6b828>"
      ]
     },
     "execution_count": 43,
     "metadata": {},
     "output_type": "execute_result"
    },
    {
     "data": {
      "image/png": "[encoded data removed]",
      "text/plain": [
       "<matplotlib.figure.Figure at 0x11448bcf8>"
      ]
     },
     "metadata": {},
     "output_type": "display_data"
    }
   ],
   "source": [
    "sns.distplot(data['EXITS'])"
   ]
  },
  {
   "cell_type": "code",
   "execution_count": 44,
   "metadata": {},
   "outputs": [
    {
     "data": {
      "text/plain": [
       "<matplotlib.axes._subplots.AxesSubplot at 0x11448b438>"
      ]
     },
     "execution_count": 44,
     "metadata": {},
     "output_type": "execute_result"
    },
    {
     "data": {
      "image/png": "[encoded data removed]",
      "text/plain": [
       "<matplotlib.figure.Figure at 0x116f64710>"
      ]
     },
     "metadata": {},
     "output_type": "display_data"
    }
   ],
   "source": [
    "sns.distplot(data['ENTRIES'])"
   ]
  },
  {
   "cell_type": "code",
   "execution_count": 45,
   "metadata": {},
   "outputs": [
    {
     "name": "stdout",
     "output_type": "stream",
     "text": [
      "Skewness: 7.578663\n",
      "Kurtosis: 61.140383\n"
     ]
    }
   ],
   "source": [
    "print(\"Skewness: %f\" % data['EXITS'].skew())\n",
    "print(\"Kurtosis: %f\" % data['EXITS'].kurt())"
   ]
  },
  {
   "cell_type": "code",
   "execution_count": 46,
   "metadata": {},
   "outputs": [
    {
     "name": "stdout",
     "output_type": "stream",
     "text": [
      "Skewness: 7.092635\n",
      "Kurtosis: 52.811235\n"
     ]
    }
   ],
   "source": [
    "print(\"Skewness: %f\" % data['ENTRIES'].skew())\n",
    "print(\"Kurtosis: %f\" % data['ENTRIES'].kurt())"
   ]
  },
  {
   "cell_type": "code",
   "execution_count": 47,
   "metadata": {},
   "outputs": [
    {
     "data": {
      "text/plain": [
       "<matplotlib.collections.PathCollection at 0x11b0b8048>"
      ]
     },
     "execution_count": 47,
     "metadata": {},
     "output_type": "execute_result"
    },
    {
     "data": {
      "image/png": "[encoded data removed]",
      "text/plain": [
       "<matplotlib.figure.Figure at 0x11818a438>"
      ]
     },
     "metadata": {},
     "output_type": "display_data"
    }
   ],
   "source": [
    "plt.figure(figsize=(14, 12))\n",
    "plt.scatter(x=data['ENTRIES'], y=data['EXITS'])"
   ]
  },
  {
   "cell_type": "markdown",
   "metadata": {},
   "source": [
    "Well, that's not best actually, lets improve it"
   ]
  },
  {
   "cell_type": "code",
   "execution_count": 50,
   "metadata": {},
   "outputs": [
    {
     "data": {
      "text/plain": [
       "count    1.969780e+05\n",
       "mean     3.309373e+07\n",
       "std      1.923282e+08\n",
       "min      0.000000e+00\n",
       "1%       0.000000e+00\n",
       "2%       0.000000e+00\n",
       "3%       0.000000e+00\n",
       "4%       9.000000e+00\n",
       "5%       1.230000e+02\n",
       "10%      6.116800e+03\n",
       "25%      2.444542e+05\n",
       "50%      1.448423e+06\n",
       "75%      4.856676e+06\n",
       "90%      1.130450e+07\n",
       "95%      1.987511e+07\n",
       "96%      3.392218e+07\n",
       "97%      1.853902e+08\n",
       "98%      5.660316e+08\n",
       "99%      1.206393e+09\n",
       "max      2.062611e+09\n",
       "Name: EXITS, dtype: float64"
      ]
     },
     "execution_count": 50,
     "metadata": {},
     "output_type": "execute_result"
    }
   ],
   "source": [
    "data.EXITS.describe(percentiles=[0.01, 0.02, 0.03, 0.04, 0.05, 0.1, 0.25, 0.5, 0.75, 0.9, 0.95, 0.96, 0.97, 0.98, 0.99])"
   ]
  },
  {
   "cell_type": "code",
   "execution_count": 59,
   "metadata": {},
   "outputs": [
    {
     "data": {
      "text/plain": [
       "count    1.969780e+05\n",
       "mean     4.040397e+07\n",
       "std      2.092732e+08\n",
       "min      0.000000e+00\n",
       "1%       0.000000e+00\n",
       "2%       1.000000e+00\n",
       "3%       7.000000e+00\n",
       "4%       1.490000e+02\n",
       "5%       8.660000e+02\n",
       "10%      3.251630e+04\n",
       "25%      5.143135e+05\n",
       "50%      2.534756e+06\n",
       "75%      6.915278e+06\n",
       "90%      1.577533e+07\n",
       "95%      1.174405e+08\n",
       "96%      1.185149e+08\n",
       "97%      2.185741e+08\n",
       "98%      6.906886e+08\n",
       "99%      1.409658e+09\n",
       "max      2.129887e+09\n",
       "Name: ENTRIES, dtype: float64"
      ]
     },
     "execution_count": 59,
     "metadata": {},
     "output_type": "execute_result"
    }
   ],
   "source": [
    "data.ENTRIES.describe(percentiles=[0.01, 0.02, 0.03, 0.04, 0.05, 0.1, 0.25, 0.5, 0.75, 0.9, 0.95, 0.96, 0.97, 0.98, 0.99])"
   ]
  },
  {
   "cell_type": "code",
   "execution_count": 76,
   "metadata": {},
   "outputs": [],
   "source": [
    "data_test = data[(data.EXITS < np.percentile(data.EXITS,97)) & (data.EXITS > np.percentile(data.EXITS,4))]"
   ]
  },
  {
   "cell_type": "code",
   "execution_count": 77,
   "metadata": {},
   "outputs": [],
   "source": [
    "data_test = data_test[(data_test.ENTRIES < np.percentile(data_test.ENTRIES,97)) & (data_test.ENTRIES > np.percentile(data.ENTRIES,3))]"
   ]
  },
  {
   "cell_type": "code",
   "execution_count": 78,
   "metadata": {},
   "outputs": [
    {
     "data": {
      "text/plain": [
       "count    1.718500e+05\n",
       "mean     3.610382e+06\n",
       "std      7.175009e+06\n",
       "min      1.000000e+01\n",
       "1%       3.110000e+02\n",
       "2%       1.562000e+03\n",
       "3%       4.826940e+03\n",
       "4%       1.107700e+04\n",
       "5%       1.645000e+04\n",
       "10%      5.882700e+04\n",
       "25%      3.814868e+05\n",
       "50%      1.605006e+06\n",
       "75%      4.618550e+06\n",
       "90%      9.164137e+06\n",
       "95%      1.308791e+07\n",
       "96%      1.452898e+07\n",
       "97%      1.614317e+07\n",
       "98%      1.749022e+07\n",
       "99%      2.373154e+07\n",
       "max      1.695777e+08\n",
       "Name: EXITS, dtype: float64"
      ]
     },
     "execution_count": 78,
     "metadata": {},
     "output_type": "execute_result"
    }
   ],
   "source": [
    "data_test.EXITS.describe(percentiles=[0.01, 0.02, 0.03, 0.04, 0.05, 0.1, 0.25, 0.5, 0.75, 0.9, 0.95, 0.96, 0.97, 0.98, 0.99])"
   ]
  },
  {
   "cell_type": "code",
   "execution_count": 79,
   "metadata": {},
   "outputs": [
    {
     "data": {
      "text/plain": [
       "count    1.718500e+05\n",
       "mean     4.769228e+06\n",
       "std      7.595466e+06\n",
       "min      8.000000e+00\n",
       "1%       9.880000e+02\n",
       "2%       6.363000e+03\n",
       "3%       1.748764e+04\n",
       "4%       2.708564e+04\n",
       "5%       3.758790e+04\n",
       "10%      1.303954e+05\n",
       "25%      6.495190e+05\n",
       "50%      2.551094e+06\n",
       "75%      6.101459e+06\n",
       "90%      1.083293e+07\n",
       "95%      1.469440e+07\n",
       "96%      1.625476e+07\n",
       "97%      1.820070e+07\n",
       "98%      2.169496e+07\n",
       "99%      5.033193e+07\n",
       "max      6.765020e+07\n",
       "Name: ENTRIES, dtype: float64"
      ]
     },
     "execution_count": 79,
     "metadata": {},
     "output_type": "execute_result"
    }
   ],
   "source": [
    "data_test.ENTRIES.describe(percentiles=[0.01, 0.02, 0.03, 0.04, 0.05, 0.1, 0.25, 0.5, 0.75, 0.9, 0.95, 0.96, 0.97, 0.98, 0.99])"
   ]
  },
  {
   "cell_type": "code",
   "execution_count": 95,
   "metadata": {},
   "outputs": [],
   "source": [
    "data_test = data_test[data_test.ENTRIES < 2e7]"
   ]
  },
  {
   "cell_type": "code",
   "execution_count": 96,
   "metadata": {},
   "outputs": [],
   "source": [
    "data_test = data_test[data_test.EXITS < 2e7]"
   ]
  },
  {
   "cell_type": "code",
   "execution_count": 97,
   "metadata": {},
   "outputs": [
    {
     "data": {
      "image/png": "[encoded data removed]",
      "text/plain": [
       "<matplotlib.figure.Figure at 0x116e05ba8>"
      ]
     },
     "metadata": {},
     "output_type": "display_data"
    }
   ],
   "source": [
    "plt.figure(figsize=(14, 12))\n",
    "plt.scatter(x=data_test['ENTRIES'], y=data_test['EXITS'] )\n",
    "plt.xlabel('ENTRIES'), plt.ylabel('EXITS')\n",
    "plt.show()"
   ]
  },
  {
   "cell_type": "code",
   "execution_count": 98,
   "metadata": {},
   "outputs": [],
   "source": [
    "data = data_test"
   ]
  },
  {
   "cell_type": "code",
   "execution_count": 103,
   "metadata": {},
   "outputs": [
    {
     "data": {
      "text/plain": [
       "<matplotlib.axes._subplots.AxesSubplot at 0x118298d68>"
      ]
     },
     "execution_count": 103,
     "metadata": {},
     "output_type": "execute_result"
    },
    {
     "data": {
      "image/png": "[encoded data removed]",
      "text/plain": [
       "<matplotlib.figure.Figure at 0x116e11ba8>"
      ]
     },
     "metadata": {},
     "output_type": "display_data"
    }
   ],
   "source": [
    "sns.distplot(data['EXITS'])"
   ]
  },
  {
   "cell_type": "markdown",
   "metadata": {},
   "source": [
    "Surely, it looks way better ;)"
   ]
  },
  {
   "cell_type": "code",
   "execution_count": 99,
   "metadata": {},
   "outputs": [
    {
     "name": "stdout",
     "output_type": "stream",
     "text": [
      "Skewness: 1.811903\n",
      "Kurtosis: 3.267724\n"
     ]
    }
   ],
   "source": [
    "print(\"Skewness: %f\" % data['EXITS'].skew())\n",
    "print(\"Kurtosis: %f\" % data['EXITS'].kurt())"
   ]
  },
  {
   "cell_type": "code",
   "execution_count": 104,
   "metadata": {},
   "outputs": [
    {
     "data": {
      "text/plain": [
       "<matplotlib.axes._subplots.AxesSubplot at 0x1a1d2d5908>"
      ]
     },
     "execution_count": 104,
     "metadata": {},
     "output_type": "execute_result"
    },
    {
     "data": {
      "image/png": "[encoded data removed]",
      "text/plain": [
       "<matplotlib.figure.Figure at 0x116d5dda0>"
      ]
     },
     "metadata": {},
     "output_type": "display_data"
    }
   ],
   "source": [
    "sns.distplot(data['ENTRIES'])"
   ]
  },
  {
   "cell_type": "code",
   "execution_count": 100,
   "metadata": {},
   "outputs": [
    {
     "name": "stdout",
     "output_type": "stream",
     "text": [
      "Skewness: 1.422966\n",
      "Kurtosis: 1.664461\n"
     ]
    }
   ],
   "source": [
    "print(\"Skewness: %f\" % data['ENTRIES'].skew())\n",
    "print(\"Kurtosis: %f\" % data['ENTRIES'].kurt())"
   ]
  },
  {
   "cell_type": "code",
   "execution_count": 101,
   "metadata": {},
   "outputs": [
    {
     "name": "stdout",
     "output_type": "stream",
     "text": [
      "<class 'pandas.core.frame.DataFrame'>\n",
      "Int64Index: 165932 entries, 0 to 196977\n",
      "Data columns (total 12 columns):\n",
      "C/A         165932 non-null object\n",
      "UNIT        165932 non-null object\n",
      "SCP         165932 non-null object\n",
      "STATION     165932 non-null object\n",
      "LINENAME    165932 non-null object\n",
      "DIVISION    165932 non-null object\n",
      "DATE        165932 non-null datetime64[ns]\n",
      "TIME        165932 non-null object\n",
      "DESC        165932 non-null object\n",
      "ENTRIES     165932 non-null int64\n",
      "EXITS       165932 non-null int64\n",
      "WEEKDAY     165932 non-null object\n",
      "dtypes: datetime64[ns](1), int64(2), object(9)\n",
      "memory usage: 21.5+ MB\n"
     ]
    }
   ],
   "source": [
    "data.info()"
   ]
  },
  {
   "cell_type": "code",
   "execution_count": 102,
   "metadata": {},
   "outputs": [
    {
     "data": {
      "text/plain": [
       "0.8423927666681897"
      ]
     },
     "execution_count": 102,
     "metadata": {},
     "output_type": "execute_result"
    }
   ],
   "source": [
    "165932/196977"
   ]
  },
  {
   "cell_type": "markdown",
   "metadata": {},
   "source": [
    "Lost 15% of data, it's off course very much info but the data is few times easier to work with\n",
    "\n",
    "Create test data for correlation map"
   ]
  },
  {
   "cell_type": "code",
   "execution_count": 105,
   "metadata": {},
   "outputs": [],
   "source": [
    "def count_lines(lines):\n",
    "    lines = list(lines)\n",
    "    line_list = set()\n",
    "    for i in range(len(lines)):\n",
    "        line_list.add(lines[i])\n",
    "    line_list = list(line_list)\n",
    "    return set([item for sublist in line_list for item in sublist])"
   ]
  },
  {
   "cell_type": "code",
   "execution_count": 123,
   "metadata": {},
   "outputs": [],
   "source": [
    "encode = data.copy()\n",
    "for i in lines:\n",
    "    encode['LINENAME' +  str(i)] = encode['LINENAME'].str.contains(str(i))"
   ]
  },
  {
   "cell_type": "code",
   "execution_count": 124,
   "metadata": {},
   "outputs": [
    {
     "name": "stdout",
     "output_type": "stream",
     "text": [
      "<class 'pandas.core.frame.DataFrame'>\n",
      "Int64Index: 165932 entries, 0 to 196977\n",
      "Data columns (total 35 columns):\n",
      "C/A          165932 non-null object\n",
      "UNIT         165932 non-null object\n",
      "SCP          165932 non-null object\n",
      "STATION      165932 non-null object\n",
      "LINENAME     165932 non-null object\n",
      "DIVISION     165932 non-null object\n",
      "DATE         165932 non-null datetime64[ns]\n",
      "TIME         165932 non-null object\n",
      "DESC         165932 non-null object\n",
      "ENTRIES      165932 non-null int64\n",
      "EXITS        165932 non-null int64\n",
      "WEEKDAY      165932 non-null object\n",
      "LINENAME4    165932 non-null bool\n",
      "LINENAMEZ    165932 non-null bool\n",
      "LINENAME5    165932 non-null bool\n",
      "LINENAME1    165932 non-null bool\n",
      "LINENAMER    165932 non-null bool\n",
      "LINENAMES    165932 non-null bool\n",
      "LINENAMEM    165932 non-null bool\n",
      "LINENAMEN    165932 non-null bool\n",
      "LINENAMEC    165932 non-null bool\n",
      "LINENAME3    165932 non-null bool\n",
      "LINENAMED    165932 non-null bool\n",
      "LINENAMEL    165932 non-null bool\n",
      "LINENAME2    165932 non-null bool\n",
      "LINENAME6    165932 non-null bool\n",
      "LINENAMEB    165932 non-null bool\n",
      "LINENAME7    165932 non-null bool\n",
      "LINENAMEJ    165932 non-null bool\n",
      "LINENAMEF    165932 non-null bool\n",
      "LINENAMEW    165932 non-null bool\n",
      "LINENAMEG    165932 non-null bool\n",
      "LINENAMEE    165932 non-null bool\n",
      "LINENAMEA    165932 non-null bool\n",
      "LINENAMEQ    165932 non-null bool\n",
      "dtypes: bool(23), datetime64[ns](1), int64(2), object(9)\n",
      "memory usage: 20.1+ MB\n"
     ]
    }
   ],
   "source": [
    "encode.info()"
   ]
  },
  {
   "cell_type": "code",
   "execution_count": 125,
   "metadata": {},
   "outputs": [],
   "source": [
    "from sklearn.preprocessing import LabelEncoder\n",
    "cols = ('C/A', 'UNIT', 'SCP', 'DIVISION', 'DESC', 'STATION')\n",
    "\n",
    "for c in cols:\n",
    "    label = LabelEncoder()\n",
    "    label.fit(list(encode[c].values))\n",
    "    encode[c] = label.transform(list(encode[c].values))"
   ]
  },
  {
   "cell_type": "code",
   "execution_count": 126,
   "metadata": {},
   "outputs": [],
   "source": [
    "encode['LINE_NUM'] = encode.LINENAME.str.len()"
   ]
  },
  {
   "cell_type": "code",
   "execution_count": 127,
   "metadata": {},
   "outputs": [
    {
     "data": {
      "text/plain": [
       "<matplotlib.axes._subplots.AxesSubplot at 0x1a27312358>"
      ]
     },
     "execution_count": 127,
     "metadata": {},
     "output_type": "execute_result"
    },
    {
     "data": {
      "image/png": "[encoded data removed]",
      "text/plain": [
       "<matplotlib.figure.Figure at 0x1a1c5c75f8>"
      ]
     },
     "metadata": {},
     "output_type": "display_data"
    }
   ],
   "source": [
    "corr_matrix = encode.corr()\n",
    "fun, ax = plt.subplots(figsize=(18, 18))\n",
    "sns.heatmap(corr_matrix, vmax=1, square=True)"
   ]
  },
  {
   "cell_type": "code",
   "execution_count": 128,
   "metadata": {},
   "outputs": [],
   "source": [
    "correlations = encode.corr()['ENTRIES'].sort_values()"
   ]
  },
  {
   "cell_type": "code",
   "execution_count": 129,
   "metadata": {},
   "outputs": [
    {
     "data": {
      "text/plain": [
       "ENTRIES      1.000000\n",
       "EXITS        0.621086\n",
       "LINE_NUM     0.101827\n",
       "LINENAMEB    0.065566\n",
       "LINENAMEC    0.064328\n",
       "LINENAMEW    0.063050\n",
       "LINENAMEN    0.062374\n",
       "LINENAMEQ    0.061841\n",
       "LINENAME3    0.053934\n",
       "LINENAMEL    0.053910\n",
       "LINENAME7    0.053888\n",
       "LINENAME2    0.053686\n",
       "LINENAME6    0.052449\n",
       "LINENAMEE    0.050522\n",
       "LINENAMER    0.042394\n",
       "LINENAMED    0.041808\n",
       "LINENAMES    0.040467\n",
       "LINENAMEA    0.039594\n",
       "LINENAMEM    0.023496\n",
       "LINENAMEF    0.022465\n",
       "LINENAME5    0.020136\n",
       "LINENAME4    0.011640\n",
       "DESC        -0.002404\n",
       "LINENAMEJ   -0.005388\n",
       "LINENAMEZ   -0.007394\n",
       "LINENAMEG   -0.012273\n",
       "C/A         -0.024403\n",
       "LINENAME1   -0.095062\n",
       "DIVISION    -0.122795\n",
       "STATION     -0.134136\n",
       "SCP         -0.145874\n",
       "UNIT        -0.209457\n",
       "Name: ENTRIES, dtype: float64"
      ]
     },
     "execution_count": 129,
     "metadata": {},
     "output_type": "execute_result"
    }
   ],
   "source": [
    "correlations[::-1]"
   ]
  },
  {
   "cell_type": "code",
   "execution_count": 130,
   "metadata": {},
   "outputs": [],
   "source": [
    "from sklearn.model_selection import train_test_split\n",
    "import xgboost as xgb\n",
    "from sklearn.metrics import explained_variance_score\n",
    "from sklearn.metrics import r2_score"
   ]
  },
  {
   "cell_type": "code",
   "execution_count": 158,
   "metadata": {},
   "outputs": [],
   "source": [
    "X = encode[['EXITS', 'LINE_NUM', 'LINENAMEB', 'LINENAMEC', 'LINENAMEW', 'LINENAMEN', 'LINENAMEQ', 'STATION']]\n",
    "Y = encode[['ENTRIES']]\n",
    "\n",
    "X_train, X_test, y_train, y_test = train_test_split(X, Y, test_size=0.2, random_state=7)"
   ]
  },
  {
   "cell_type": "code",
   "execution_count": 179,
   "metadata": {},
   "outputs": [],
   "source": [
    "model_xgb = xgb.XGBRegressor(n_estimators=250, \n",
    "                             learning_rate=0.08, \n",
    "                             gamma=0, \n",
    "                             subsample=0.75,\n",
    "                             colsample_bytree=0.8,\n",
    "                             max_depth=12)"
   ]
  },
  {
   "cell_type": "code",
   "execution_count": 180,
   "metadata": {},
   "outputs": [
    {
     "data": {
      "text/plain": [
       "XGBRegressor(base_score=0.5, booster='gbtree', colsample_bylevel=1,\n",
       "       colsample_bytree=0.8, gamma=0, learning_rate=0.08, max_delta_step=0,\n",
       "       max_depth=12, min_child_weight=1, missing=None, n_estimators=250,\n",
       "       n_jobs=1, nthread=None, objective='reg:linear', random_state=0,\n",
       "       reg_alpha=0, reg_lambda=1, scale_pos_weight=1, seed=None,\n",
       "       silent=True, subsample=0.75)"
      ]
     },
     "execution_count": 180,
     "metadata": {},
     "output_type": "execute_result"
    }
   ],
   "source": [
    "model_xgb.fit(X_train, y_train)"
   ]
  },
  {
   "cell_type": "code",
   "execution_count": 181,
   "metadata": {},
   "outputs": [
    {
     "name": "stdout",
     "output_type": "stream",
     "text": [
      "0.985086314552\n",
      "0.985085404763\n"
     ]
    }
   ],
   "source": [
    "preds = model_xgb.predict(X_test)\n",
    "print(explained_variance_score(y_test, preds))\n",
    "print(r2_score(y_test, preds))"
   ]
  },
  {
   "cell_type": "code",
   "execution_count": 182,
   "metadata": {},
   "outputs": [],
   "source": [
    "axis_x = [x for x in range(100)]"
   ]
  },
  {
   "cell_type": "code",
   "execution_count": 183,
   "metadata": {},
   "outputs": [
    {
     "data": {
      "text/plain": [
       "[<matplotlib.lines.Line2D at 0x1a2999abe0>]"
      ]
     },
     "execution_count": 183,
     "metadata": {},
     "output_type": "execute_result"
    },
    {
     "data": {
      "image/png": "[encoded data removed]",
      "text/plain": [
       "<matplotlib.figure.Figure at 0x1a1d7f1b38>"
      ]
     },
     "metadata": {},
     "output_type": "display_data"
    }
   ],
   "source": [
    "plt.figure(figsize=(18, 14))\n",
    "plt.plot(axis_x, y_test[:100], 'o')\n",
    "\n",
    "plt.plot(axis_x, preds[:100], '-k')"
   ]
  },
  {
   "cell_type": "code",
   "execution_count": 184,
   "metadata": {},
   "outputs": [],
   "source": [
    "from sklearn.ensemble import RandomForestRegressor"
   ]
  },
  {
   "cell_type": "code",
   "execution_count": 197,
   "metadata": {},
   "outputs": [],
   "source": [
    "rand = RandomForestRegressor(n_estimators=250,\n",
    "                             max_depth=16,\n",
    "                             random_state=7,\n",
    "                             n_jobs=8,\n",
    "                             verbose=1)"
   ]
  },
  {
   "cell_type": "code",
   "execution_count": 198,
   "metadata": {},
   "outputs": [
    {
     "name": "stderr",
     "output_type": "stream",
     "text": [
      "/Users/oziomek/anaconda3/lib/python3.6/site-packages/ipykernel_launcher.py:1: DataConversionWarning: A column-vector y was passed when a 1d array was expected. Please change the shape of y to (n_samples,), for example using ravel().\n",
      "  \"\"\"Entry point for launching an IPython kernel.\n",
      "[Parallel(n_jobs=8)]: Done  34 tasks      | elapsed:    2.4s\n",
      "[Parallel(n_jobs=8)]: Done 184 tasks      | elapsed:   12.2s\n",
      "[Parallel(n_jobs=8)]: Done 250 out of 250 | elapsed:   16.3s finished\n"
     ]
    },
    {
     "data": {
      "text/plain": [
       "RandomForestRegressor(bootstrap=True, criterion='mse', max_depth=16,\n",
       "           max_features='auto', max_leaf_nodes=None,\n",
       "           min_impurity_decrease=0.0, min_impurity_split=None,\n",
       "           min_samples_leaf=1, min_samples_split=2,\n",
       "           min_weight_fraction_leaf=0.0, n_estimators=250, n_jobs=8,\n",
       "           oob_score=False, random_state=7, verbose=1, warm_start=False)"
      ]
     },
     "execution_count": 198,
     "metadata": {},
     "output_type": "execute_result"
    }
   ],
   "source": [
    "rand.fit(X_train, y_train)"
   ]
  },
  {
   "cell_type": "code",
   "execution_count": 199,
   "metadata": {},
   "outputs": [
    {
     "name": "stderr",
     "output_type": "stream",
     "text": [
      "[Parallel(n_jobs=8)]: Done  34 tasks      | elapsed:    0.1s\n",
      "[Parallel(n_jobs=8)]: Done 184 tasks      | elapsed:    0.3s\n",
      "[Parallel(n_jobs=8)]: Done 250 out of 250 | elapsed:    0.4s finished\n"
     ]
    },
    {
     "data": {
      "text/plain": [
       "0.93042992999860985"
      ]
     },
     "execution_count": 199,
     "metadata": {},
     "output_type": "execute_result"
    }
   ],
   "source": [
    "rand.score(X_test, y_test)"
   ]
  },
  {
   "cell_type": "code",
   "execution_count": 200,
   "metadata": {},
   "outputs": [
    {
     "name": "stderr",
     "output_type": "stream",
     "text": [
      "[Parallel(n_jobs=8)]: Done  34 tasks      | elapsed:    0.1s\n",
      "[Parallel(n_jobs=8)]: Done 184 tasks      | elapsed:    0.3s\n"
     ]
    },
    {
     "name": "stdout",
     "output_type": "stream",
     "text": [
      "0.93044662312\n"
     ]
    },
    {
     "name": "stderr",
     "output_type": "stream",
     "text": [
      "[Parallel(n_jobs=8)]: Done 250 out of 250 | elapsed:    0.3s finished\n"
     ]
    }
   ],
   "source": [
    "pred_rand = rand.predict(X_test)\n",
    "print(explained_variance_score(y_test, pred_rand))"
   ]
  },
  {
   "cell_type": "code",
   "execution_count": 201,
   "metadata": {},
   "outputs": [
    {
     "data": {
      "text/plain": [
       "[<matplotlib.lines.Line2D at 0x1a33bbed68>]"
      ]
     },
     "execution_count": 201,
     "metadata": {},
     "output_type": "execute_result"
    },
    {
     "data": {
      "image/png": "[encoded data removed]",
      "text/plain": [
       "<matplotlib.figure.Figure at 0x1a33bc5898>"
      ]
     },
     "metadata": {},
     "output_type": "display_data"
    }
   ],
   "source": [
    "plt.figure(figsize=(18, 14))\n",
    "plt.plot(axis_x, y_test[:100], 'o')\n",
    "\n",
    "plt.plot(axis_x, pred_rand[:100], '-k')"
   ]
  },
  {
   "cell_type": "code",
   "execution_count": 202,
   "metadata": {},
   "outputs": [],
   "source": [
    "from sklearn.ensemble import BaggingRegressor"
   ]
  },
  {
   "cell_type": "code",
   "execution_count": 205,
   "metadata": {},
   "outputs": [],
   "source": [
    "rand_small = RandomForestRegressor(n_estimators=120,\n",
    "                             max_depth=12,\n",
    "                             random_state=7,\n",
    "                             n_jobs=8,\n",
    "                             verbose=1)"
   ]
  },
  {
   "cell_type": "code",
   "execution_count": 206,
   "metadata": {},
   "outputs": [],
   "source": [
    "bagging = BaggingRegressor(base_estimator=rand_small, \n",
    "                           n_estimators=8, \n",
    "                           n_jobs=8,\n",
    "                           random_state=9)"
   ]
  },
  {
   "cell_type": "code",
   "execution_count": 207,
   "metadata": {},
   "outputs": [
    {
     "name": "stderr",
     "output_type": "stream",
     "text": [
      "/Users/oziomek/anaconda3/lib/python3.6/site-packages/sklearn/utils/validation.py:578: DataConversionWarning: A column-vector y was passed when a 1d array was expected. Please change the shape of y to (n_samples, ), for example using ravel().\n",
      "  y = column_or_1d(y, warn=True)\n",
      "[Parallel(n_jobs=8)]: Done  34 tasks      | elapsed:   12.1s\n",
      "[Parallel(n_jobs=8)]: Done  34 tasks      | elapsed:   12.6s\n",
      "[Parallel(n_jobs=8)]: Done  34 tasks      | elapsed:   12.6s\n",
      "[Parallel(n_jobs=8)]: Done  34 tasks      | elapsed:   12.8s\n",
      "[Parallel(n_jobs=8)]: Done  34 tasks      | elapsed:   13.0s\n",
      "[Parallel(n_jobs=8)]: Done  34 tasks      | elapsed:   13.1s\n",
      "[Parallel(n_jobs=8)]: Done  34 tasks      | elapsed:   13.2s\n",
      "[Parallel(n_jobs=8)]: Done  34 tasks      | elapsed:   13.1s\n",
      "[Parallel(n_jobs=8)]: Done 120 out of 120 | elapsed:   39.3s finished\n",
      "[Parallel(n_jobs=8)]: Done 120 out of 120 | elapsed:   39.5s finished\n",
      "[Parallel(n_jobs=8)]: Done 120 out of 120 | elapsed:   39.4s finished\n",
      "[Parallel(n_jobs=8)]: Done 120 out of 120 | elapsed:   39.8s finished\n",
      "[Parallel(n_jobs=8)]: Done 120 out of 120 | elapsed:   39.5s finished\n",
      "[Parallel(n_jobs=8)]: Done 120 out of 120 | elapsed:   39.4s finished\n",
      "[Parallel(n_jobs=8)]: Done 120 out of 120 | elapsed:   39.2s finished\n",
      "[Parallel(n_jobs=8)]: Done 120 out of 120 | elapsed:   39.5s finished\n"
     ]
    },
    {
     "data": {
      "text/plain": [
       "BaggingRegressor(base_estimator=RandomForestRegressor(bootstrap=True, criterion='mse', max_depth=12,\n",
       "           max_features='auto', max_leaf_nodes=None,\n",
       "           min_impurity_decrease=0.0, min_impurity_split=None,\n",
       "           min_samples_leaf=1, min_samples_split=2,\n",
       "           min_weight_fraction_leaf=0.0, n_estimators=120, n_jobs=8,\n",
       "           oob_score=False, random_state=7, verbose=1, warm_start=False),\n",
       "         bootstrap=True, bootstrap_features=False, max_features=1.0,\n",
       "         max_samples=1.0, n_estimators=8, n_jobs=8, oob_score=False,\n",
       "         random_state=9, verbose=0, warm_start=False)"
      ]
     },
     "execution_count": 207,
     "metadata": {},
     "output_type": "execute_result"
    }
   ],
   "source": [
    "bagging.fit(X_train, y_train)"
   ]
  },
  {
   "cell_type": "code",
   "execution_count": 208,
   "metadata": {},
   "outputs": [
    {
     "name": "stderr",
     "output_type": "stream",
     "text": [
      "[Parallel(n_jobs=8)]: Done  34 tasks      | elapsed:    0.0s\n",
      "[Parallel(n_jobs=8)]: Done 120 out of 120 | elapsed:    0.1s finished\n",
      "[Parallel(n_jobs=8)]: Done  34 tasks      | elapsed:    0.0s\n",
      "[Parallel(n_jobs=8)]: Done 120 out of 120 | elapsed:    0.1s finished\n",
      "[Parallel(n_jobs=8)]: Done  34 tasks      | elapsed:    0.0s\n",
      "[Parallel(n_jobs=8)]: Done 120 out of 120 | elapsed:    0.1s finished\n",
      "[Parallel(n_jobs=8)]: Done  34 tasks      | elapsed:    0.0s\n",
      "[Parallel(n_jobs=8)]: Done 120 out of 120 | elapsed:    0.1s finished\n",
      "[Parallel(n_jobs=8)]: Done  34 tasks      | elapsed:    0.0s\n",
      "[Parallel(n_jobs=8)]: Done 120 out of 120 | elapsed:    0.1s finished\n",
      "[Parallel(n_jobs=8)]: Done  34 tasks      | elapsed:    0.0s\n",
      "[Parallel(n_jobs=8)]: Done 120 out of 120 | elapsed:    0.1s finished\n",
      "[Parallel(n_jobs=8)]: Done  34 tasks      | elapsed:    0.0s\n",
      "[Parallel(n_jobs=8)]: Done 120 out of 120 | elapsed:    0.1s finished\n",
      "[Parallel(n_jobs=8)]: Done  34 tasks      | elapsed:    0.0s\n",
      "[Parallel(n_jobs=8)]: Done 120 out of 120 | elapsed:    0.1s finished\n"
     ]
    },
    {
     "data": {
      "text/plain": [
       "0.81966831806098062"
      ]
     },
     "execution_count": 208,
     "metadata": {},
     "output_type": "execute_result"
    }
   ],
   "source": [
    "bagging.score(X_test, y_test)"
   ]
  },
  {
   "cell_type": "code",
   "execution_count": 209,
   "metadata": {},
   "outputs": [
    {
     "name": "stderr",
     "output_type": "stream",
     "text": [
      "[Parallel(n_jobs=8)]: Done  34 tasks      | elapsed:    0.0s\n",
      "[Parallel(n_jobs=8)]: Done 120 out of 120 | elapsed:    0.1s finished\n",
      "[Parallel(n_jobs=8)]: Done  34 tasks      | elapsed:    0.0s\n",
      "[Parallel(n_jobs=8)]: Done 120 out of 120 | elapsed:    0.1s finished\n",
      "[Parallel(n_jobs=8)]: Done  34 tasks      | elapsed:    0.0s\n",
      "[Parallel(n_jobs=8)]: Done 120 out of 120 | elapsed:    0.1s finished\n",
      "[Parallel(n_jobs=8)]: Done  34 tasks      | elapsed:    0.0s\n",
      "[Parallel(n_jobs=8)]: Done 120 out of 120 | elapsed:    0.1s finished\n",
      "[Parallel(n_jobs=8)]: Done  34 tasks      | elapsed:    0.0s\n",
      "[Parallel(n_jobs=8)]: Done 120 out of 120 | elapsed:    0.1s finished\n",
      "[Parallel(n_jobs=8)]: Done  34 tasks      | elapsed:    0.0s\n",
      "[Parallel(n_jobs=8)]: Done 120 out of 120 | elapsed:    0.1s finished\n",
      "[Parallel(n_jobs=8)]: Done  34 tasks      | elapsed:    0.0s\n",
      "[Parallel(n_jobs=8)]: Done 120 out of 120 | elapsed:    0.1s finished\n",
      "[Parallel(n_jobs=8)]: Done  34 tasks      | elapsed:    0.0s\n",
      "[Parallel(n_jobs=8)]: Done 120 out of 120 | elapsed:    0.1s finished\n"
     ]
    },
    {
     "name": "stdout",
     "output_type": "stream",
     "text": [
      "0.819725459619\n"
     ]
    }
   ],
   "source": [
    "pred_bag = bagging.predict(X_test)\n",
    "print(explained_variance_score(y_test, pred_bag))"
   ]
  },
  {
   "cell_type": "code",
   "execution_count": 210,
   "metadata": {},
   "outputs": [
    {
     "data": {
      "text/plain": [
       "[<matplotlib.lines.Line2D at 0x1a2eb97d30>]"
      ]
     },
     "execution_count": 210,
     "metadata": {},
     "output_type": "execute_result"
    },
    {
     "data": {
      "image/png": "[encoded data removed]",
      "text/plain": [
       "<matplotlib.figure.Figure at 0x1a3ca0f9b0>"
      ]
     },
     "metadata": {},
     "output_type": "display_data"
    }
   ],
   "source": [
    "plt.figure(figsize=(18, 14))\n",
    "plt.plot(axis_x, y_test[:100], 'o')\n",
    "\n",
    "plt.plot(axis_x, pred_bag[:100], '-k')"
   ]
  },
  {
   "cell_type": "code",
   "execution_count": null,
   "metadata": {},
   "outputs": [],
   "source": []
  }
 ],
 "metadata": {
  "kernelspec": {
   "display_name": "Python 3",
   "language": "python",
   "name": "python3"
  },
  "language_info": {
   "codemirror_mode": {
    "name": "ipython",
    "version": 3
   },
   "file_extension": ".py",
   "mimetype": "text/x-python",
   "name": "python",
   "nbconvert_exporter": "python",
   "pygments_lexer": "ipython3",
   "version": "3.6.4"
  }
 },
 "nbformat": 4,
 "nbformat_minor": 2
}
